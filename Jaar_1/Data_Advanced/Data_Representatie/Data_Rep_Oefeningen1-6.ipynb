{
 "cells": [
  {
   "cell_type": "code",
   "execution_count": 53,
   "id": "c5f231d6",
   "metadata": {},
   "outputs": [
    {
     "data": {
      "text/plain": [
       "0.10934855242569191"
      ]
     },
     "execution_count": 53,
     "metadata": {},
     "output_type": "execute_result"
    }
   ],
   "source": [
    "import scipy.stats as stats\n",
    "import numpy as np\n",
    "from scipy.stats import norm\n",
    "import matplotlib.pyplot as plt\n",
    "\n",
    "#Example of stats functions from standaard normale verdeling\n",
    "\n",
    "#Voorbeeld 1\n",
    "\n",
    "stats.norm.cdf(-1.23, 0, 1)"
   ]
  },
  {
   "cell_type": "code",
   "execution_count": 54,
   "id": "0010783c",
   "metadata": {},
   "outputs": [
    {
     "data": {
      "text/plain": [
       "0.018308899851658955"
      ]
     },
     "execution_count": 54,
     "metadata": {},
     "output_type": "execute_result"
    }
   ],
   "source": [
    "1 - stats.norm.cdf(2.09, 0, 1)"
   ]
  },
  {
   "cell_type": "code",
   "execution_count": 55,
   "id": "53867b94",
   "metadata": {},
   "outputs": [
    {
     "data": {
      "text/plain": [
       "0.11095348498906421"
      ]
     },
     "execution_count": 55,
     "metadata": {},
     "output_type": "execute_result"
    }
   ],
   "source": [
    "stats.norm.cdf(2.85, 0, 1) - stats.norm.cdf(1.21, 0, 1)"
   ]
  },
  {
   "cell_type": "code",
   "execution_count": 56,
   "id": "cf5b1e51",
   "metadata": {},
   "outputs": [
    {
     "data": {
      "text/plain": [
       "2.4892858647872407"
      ]
     },
     "execution_count": 56,
     "metadata": {},
     "output_type": "execute_result"
    }
   ],
   "source": [
    "#Voorbeeld 2\n",
    "stats.norm.ppf(0.9936, 0, 1)\n"
   ]
  },
  {
   "cell_type": "code",
   "execution_count": 57,
   "id": "de523b49",
   "metadata": {},
   "outputs": [
    {
     "data": {
      "text/plain": [
       "-2.280129653030281"
      ]
     },
     "execution_count": 57,
     "metadata": {},
     "output_type": "execute_result"
    }
   ],
   "source": [
    "stats.norm.ppf(1 - 0.9887, 0, 1)"
   ]
  },
  {
   "cell_type": "code",
   "execution_count": 58,
   "id": "5a1af272",
   "metadata": {},
   "outputs": [
    {
     "data": {
      "text/plain": [
       "0.9181284878696232"
      ]
     },
     "execution_count": 58,
     "metadata": {},
     "output_type": "execute_result"
    }
   ],
   "source": [
    "#Oef 3a\n",
    "\n",
    "stats.norm.cdf(180, 170.6, 6.75)"
   ]
  },
  {
   "cell_type": "code",
   "execution_count": 80,
   "id": "5b4c9064",
   "metadata": {},
   "outputs": [
    {
     "data": {
      "text/plain": [
       "0.684587140248381"
      ]
     },
     "execution_count": 80,
     "metadata": {},
     "output_type": "execute_result"
    }
   ],
   "source": [
    "#b\n",
    "stats.norm.cdf(175, 170.6, 6.75) - stats.norm.cdf(160, 170.6, 6.75)"
   ]
  },
  {
   "cell_type": "code",
   "execution_count": 60,
   "id": "db6fffa7",
   "metadata": {},
   "outputs": [
    {
     "data": {
      "text/plain": [
       "0.004482646557087855"
      ]
     },
     "execution_count": 60,
     "metadata": {},
     "output_type": "execute_result"
    }
   ],
   "source": [
    "#c\n",
    "stats.norm.cdf(180.1, 170.6, 6.75) - stats.norm.cdf(179.9, 170.6, 6.75)"
   ]
  },
  {
   "cell_type": "code",
   "execution_count": 61,
   "id": "58bf5e99",
   "metadata": {},
   "outputs": [
    {
     "data": {
      "text/plain": [
       "172.31009294616663"
      ]
     },
     "execution_count": 61,
     "metadata": {},
     "output_type": "execute_result"
    }
   ],
   "source": [
    "#d.\n",
    "stats.norm.ppf(0.6, 170.6, 6.75)"
   ]
  },
  {
   "cell_type": "code",
   "execution_count": 62,
   "id": "9d427fa6",
   "metadata": {},
   "outputs": [
    {
     "data": {
      "text/plain": [
       "0.4120704478709426"
      ]
     },
     "execution_count": 62,
     "metadata": {},
     "output_type": "execute_result"
    }
   ],
   "source": [
    "#Voorbeeld 5\n",
    "mu = 52\n",
    "sigma = 9\n",
    "#s = np.random.normal(mu, sigma, 500)\n",
    "stats.norm.cdf(50, 52, 9)"
   ]
  },
  {
   "cell_type": "code",
   "execution_count": 63,
   "id": "58842c71",
   "metadata": {},
   "outputs": [
    {
     "data": {
      "text/plain": [
       "0.11506967022170822"
      ]
     },
     "execution_count": 63,
     "metadata": {},
     "output_type": "execute_result"
    }
   ],
   "source": [
    "#Oefening 1\n",
    "\n",
    "1 - stats.norm.cdf(140, 110, 25 )\n",
    "\n"
   ]
  },
  {
   "cell_type": "code",
   "execution_count": 64,
   "id": "0a29f076",
   "metadata": {},
   "outputs": [
    {
     "data": {
      "text/plain": [
       "0.2857874067778077"
      ]
     },
     "execution_count": 64,
     "metadata": {},
     "output_type": "execute_result"
    }
   ],
   "source": [
    "#Oefening 2\n",
    "#a) a. Hoe groot is de kans dat een student het examen aflegt in meer dan 60 maar minder dan 75 minuten?\n",
    "#Variantie is standard afwijking ^ 2, dus standar afwijking zal sqrt(variantie zijn):\n",
    "\n",
    "stats.norm.cdf(75, 80, 10) - stats.norm.cdf(60, 80, 10)\n"
   ]
  },
  {
   "cell_type": "code",
   "execution_count": 65,
   "id": "5c26fd3c",
   "metadata": {},
   "outputs": [
    {
     "data": {
      "text/plain": [
       "0.15865525393145707"
      ]
     },
     "execution_count": 65,
     "metadata": {},
     "output_type": "execute_result"
    }
   ],
   "source": [
    "#2b) meer dan 90 minuten nodig hebben\n",
    "\n",
    "1 - stats.norm.cdf(90, 80, 10 )\n",
    "\n",
    "\n"
   ]
  },
  {
   "cell_type": "code",
   "execution_count": 78,
   "id": "52dd90f1",
   "metadata": {},
   "outputs": [
    {
     "data": {
      "image/png": "[encoded data removed]",
      "text/plain": [
       "<Figure size 432x288 with 1 Axes>"
      ]
     },
     "metadata": {
      "needs_background": "light"
     },
     "output_type": "display_data"
    }
   ],
   "source": [
    "data = np.random.normal(80, 10, 1000)\n",
    "mu, std = norm.fit(data) \n",
    "  \n",
    "plt.hist(data, bins=25, density=True, alpha=0.6, color='b')\n",
    "  \n",
    "xmin, xmax = plt.xlim()\n",
    "x = np.linspace(xmin, xmax, 100)\n",
    "p = norm.pdf(x, mu, std)\n",
    "  \n",
    "plt.plot(x, p, 'k', linewidth=2)\n",
    "title = \"Fit Values: {:.2f} and {:.2f}\".format(mu, std)\n",
    "plt.title(title)\n",
    "  \n",
    "plt.show()"
   ]
  },
  {
   "cell_type": "code",
   "execution_count": 66,
   "id": "8fe9feb5",
   "metadata": {},
   "outputs": [
    {
     "data": {
      "text/plain": [
       "92.815515655446"
      ]
     },
     "execution_count": 66,
     "metadata": {},
     "output_type": "execute_result"
    }
   ],
   "source": [
    "#2c hoeveel minuten zodat 90% vand e studenten klaar kunnen zijn\n",
    "\n",
    "stats.norm.ppf(0.9, 80, 10)"
   ]
  },
  {
   "cell_type": "code",
   "execution_count": 67,
   "id": "12afb773",
   "metadata": {},
   "outputs": [
    {
     "data": {
      "text/plain": [
       "3.24931392874783"
      ]
     },
     "execution_count": 67,
     "metadata": {},
     "output_type": "execute_result"
    }
   ],
   "source": [
    "#Oef 3: niet meer dan 4% gratis wil vervangen?\n",
    "\n",
    "stats.norm.ppf(0.04, 5, 1)"
   ]
  },
  {
   "cell_type": "code",
   "execution_count": 68,
   "id": "1fab3a71",
   "metadata": {},
   "outputs": [
    {
     "data": {
      "text/plain": [
       "0.9997673709209645"
      ]
     },
     "execution_count": 68,
     "metadata": {},
     "output_type": "execute_result"
    }
   ],
   "source": [
    "#Oef 4:\n",
    "#Voor medicijn 1: Kan dat patient nog slaapt:\n",
    "1 - stats.norm.cdf(2.5, 6, 1 )\n"
   ]
  },
  {
   "cell_type": "code",
   "execution_count": 69,
   "id": "a0fa7ec2",
   "metadata": {},
   "outputs": [
    {
     "data": {
      "text/plain": [
       "0.9522096477271853"
      ]
     },
     "execution_count": 69,
     "metadata": {},
     "output_type": "execute_result"
    }
   ],
   "source": [
    "\n",
    "#Voor medicijn 2: Kans:\n",
    "1 - stats.norm.cdf(2.5, 5, 1.5 )\n",
    "\n",
    "#Hij moet medicijn 1 gebruiken"
   ]
  },
  {
   "cell_type": "code",
   "execution_count": 70,
   "id": "53880e40",
   "metadata": {},
   "outputs": [
    {
     "data": {
      "image/png": "[encoded data removed]",
      "text/plain": [
       "<Figure size 432x288 with 1 Axes>"
      ]
     },
     "metadata": {
      "needs_background": "light"
     },
     "output_type": "display_data"
    }
   ],
   "source": [
    "#Om te checken voor de 140 IQ waarde van Oef 1\n",
    "\n",
    "data = np.random.normal(110, 25, 1000)\n",
    "mu, std = norm.fit(data) \n",
    "  \n",
    "plt.hist(data, bins=25, density=True, alpha=0.6, color='b')\n",
    "  \n",
    "xmin, xmax = plt.xlim()\n",
    "x = np.linspace(xmin, xmax, 100)\n",
    "p = norm.pdf(x, mu, std)\n",
    "  \n",
    "plt.plot(x, p, 'k', linewidth=2)\n",
    "title = \"Fit Values: {:.2f} and {:.2f}\".format(mu, std)\n",
    "plt.title(title)\n",
    "  \n",
    "plt.show()"
   ]
  },
  {
   "cell_type": "code",
   "execution_count": 71,
   "id": "43fc6b83",
   "metadata": {},
   "outputs": [
    {
     "data": {
      "image/png": "[encoded data removed]",
      "text/plain": [
       "<Figure size 432x288 with 1 Axes>"
      ]
     },
     "metadata": {
      "needs_background": "light"
     },
     "output_type": "display_data"
    }
   ],
   "source": [
    "#Oefening 5: Percent slechte bouten geleverd:\n",
    "\n",
    "data = np.random.normal(58, 4, 1000)\n",
    "mu, std = norm.fit(data) \n",
    "  \n",
    "plt.hist(data, bins=25, density=True, alpha=0.6, color='b')\n",
    "  \n",
    "xmin, xmax = plt.xlim()\n",
    "x = np.linspace(xmin, xmax, 100)\n",
    "p = norm.pdf(x, mu, std)\n",
    "  \n",
    "plt.plot(x, p, 'k', linewidth=2)\n",
    "title = \"Fit Values: {:.2f} and {:.2f}\".format(mu, std)\n",
    "plt.title(title)\n",
    "  \n",
    "plt.show()\n"
   ]
  },
  {
   "cell_type": "code",
   "execution_count": 72,
   "id": "dc9511fd",
   "metadata": {},
   "outputs": [
    {
     "data": {
      "text/plain": [
       "0.10564977366685535"
      ]
     },
     "execution_count": 72,
     "metadata": {},
     "output_type": "execute_result"
    }
   ],
   "source": [
    "#Dus wat valt onder 53 en boven 67?\n",
    "\n",
    "stats.norm.cdf(53, 58, 4)"
   ]
  },
  {
   "cell_type": "code",
   "execution_count": 73,
   "id": "bfb752f5",
   "metadata": {},
   "outputs": [
    {
     "data": {
      "text/plain": [
       "0.012224472655044671"
      ]
     },
     "execution_count": 73,
     "metadata": {},
     "output_type": "execute_result"
    }
   ],
   "source": [
    "#Boven de 67:\n",
    "\n",
    "1 - stats.norm.cdf(67, 58, 4)"
   ]
  },
  {
   "cell_type": "code",
   "execution_count": 74,
   "id": "aba9a1ab",
   "metadata": {},
   "outputs": [],
   "source": [
    "#10.6 + 1.2 % = 11.8% slechte bouten"
   ]
  },
  {
   "cell_type": "code",
   "execution_count": 75,
   "id": "453c53c1",
   "metadata": {},
   "outputs": [
    {
     "data": {
      "text/plain": [
       "0.15865525393145707"
      ]
     },
     "execution_count": 75,
     "metadata": {},
     "output_type": "execute_result"
    }
   ],
   "source": [
    "#Oefening 6 a)\n",
    "#meer dan 40000km meegaat?\n",
    "\n",
    "1 - stats.norm.cdf(40000, 35000, 5000)"
   ]
  },
  {
   "cell_type": "code",
   "execution_count": 76,
   "id": "5774704f",
   "metadata": {},
   "outputs": [
    {
     "data": {
      "image/png": "[encoded data removed]",
      "text/plain": [
       "<Figure size 432x288 with 1 Axes>"
      ]
     },
     "metadata": {
      "needs_background": "light"
     },
     "output_type": "display_data"
    }
   ],
   "source": [
    "data = np.random.normal(35000, 5000, 1000)\n",
    "mu, std = norm.fit(data) \n",
    "  \n",
    "plt.hist(data, bins=25, density=True, alpha=0.6, color='b')\n",
    "  \n",
    "xmin, xmax = plt.xlim()\n",
    "x = np.linspace(xmin, xmax, 100)\n",
    "p = norm.pdf(x, mu, std)\n",
    "  \n",
    "plt.plot(x, p, 'k', linewidth=2)\n",
    "title = \"Fit Values: {:.2f} and {:.2f}\".format(mu, std)\n",
    "plt.title(title)\n",
    "  \n",
    "plt.show()"
   ]
  },
  {
   "cell_type": "code",
   "execution_count": 77,
   "id": "f0d72151",
   "metadata": {},
   "outputs": [
    {
     "data": {
      "text/plain": [
       "28592.242172276998"
      ]
     },
     "execution_count": 77,
     "metadata": {},
     "output_type": "execute_result"
    }
   ],
   "source": [
    "#Oefening 6b)\n",
    "\n",
    "#Hoeveel km's garanderen zodat niet meer dan 10% van alle banden in aanmerking komen voor korting?\n",
    "stats.norm.ppf(0.1, 35000, 5000)"
   ]
  },
  {
   "cell_type": "code",
   "execution_count": null,
   "id": "909f8db0",
   "metadata": {},
   "outputs": [],
   "source": []
  }
 ],
 "metadata": {
  "kernelspec": {
   "display_name": "Python 3 (ipykernel)",
   "language": "python",
   "name": "python3"
  },
  "language_info": {
   "codemirror_mode": {
    "name": "ipython",
    "version": 3
   },
   "file_extension": ".py",
   "mimetype": "text/x-python",
   "name": "python",
   "nbconvert_exporter": "python",
   "pygments_lexer": "ipython3",
   "version": "3.9.7"
  }
 },
 "nbformat": 4,
 "nbformat_minor": 5
}
