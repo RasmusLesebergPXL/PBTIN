{
 "cells": [
  {
   "cell_type": "code",
   "execution_count": 4,
   "id": "a91f9c44",
   "metadata": {},
   "outputs": [
    {
     "data": {
      "text/plain": [
       "567.4489750196082"
      ]
     },
     "execution_count": 4,
     "metadata": {},
     "output_type": "execute_result"
    }
   ],
   "source": [
    "#avg = 500\n",
    "#std = 100\n",
    "\n",
    "#avg = 18\n",
    "#std = 6\n",
    "\n",
    "import scipy.stats as stats\n",
    "from scipy.stats import norm\n",
    "import pandas as pd\n",
    "import seaborn as sns\n",
    "import matplotlib.pyplot as plt\n",
    "from sklearn.model_selection import train_test_split\n",
    "from sklearn import tree\n",
    "from sklearn.metrics import accuracy_score\n",
    "\n",
    "stats.norm.ppf(1 - 0.25, 500, 100)"
   ]
  },
  {
   "cell_type": "code",
   "execution_count": 5,
   "id": "31d2b8f5",
   "metadata": {},
   "outputs": [
    {
     "data": {
      "text/plain": [
       "22.04693850117649"
      ]
     },
     "execution_count": 5,
     "metadata": {},
     "output_type": "execute_result"
    }
   ],
   "source": [
    "stats.norm.ppf(1-0.25, 18, 6)"
   ]
  },
  {
   "cell_type": "code",
   "execution_count": 6,
   "id": "2f5c5b0a",
   "metadata": {},
   "outputs": [],
   "source": [
    "#Dirk mag beginnen, Wouter niet"
   ]
  },
  {
   "cell_type": "code",
   "execution_count": 7,
   "id": "2bc36c31",
   "metadata": {},
   "outputs": [],
   "source": [
    "#Vraag 1\n",
    "\n",
    "heart = pd.read_csv('heart_ex.csv')\n"
   ]
  },
  {
   "cell_type": "code",
   "execution_count": 8,
   "id": "e3daf1e2",
   "metadata": {},
   "outputs": [
    {
     "data": {
      "text/html": [
       "<div>\n",
       "<style scoped>\n",
       "    .dataframe tbody tr th:only-of-type {\n",
       "        vertical-align: middle;\n",
       "    }\n",
       "\n",
       "    .dataframe tbody tr th {\n",
       "        vertical-align: top;\n",
       "    }\n",
       "\n",
       "    .dataframe thead th {\n",
       "        text-align: right;\n",
       "    }\n",
       "</style>\n",
       "<table border=\"1\" class=\"dataframe\">\n",
       "  <thead>\n",
       "    <tr style=\"text-align: right;\">\n",
       "      <th></th>\n",
       "      <th>age</th>\n",
       "      <th>sex</th>\n",
       "      <th>cp</th>\n",
       "      <th>trtbps</th>\n",
       "      <th>chol</th>\n",
       "      <th>fbs</th>\n",
       "      <th>restecg</th>\n",
       "      <th>thalachh</th>\n",
       "      <th>exng</th>\n",
       "      <th>oldpeak</th>\n",
       "      <th>slp</th>\n",
       "      <th>caa</th>\n",
       "      <th>thall</th>\n",
       "      <th>output</th>\n",
       "    </tr>\n",
       "  </thead>\n",
       "  <tbody>\n",
       "    <tr>\n",
       "      <th>0</th>\n",
       "      <td>63</td>\n",
       "      <td>1</td>\n",
       "      <td>asymptomatic</td>\n",
       "      <td>145</td>\n",
       "      <td>233</td>\n",
       "      <td>1</td>\n",
       "      <td>0</td>\n",
       "      <td>150</td>\n",
       "      <td>0</td>\n",
       "      <td>2.3</td>\n",
       "      <td>0</td>\n",
       "      <td>0</td>\n",
       "      <td>1</td>\n",
       "      <td>1</td>\n",
       "    </tr>\n",
       "    <tr>\n",
       "      <th>1</th>\n",
       "      <td>37</td>\n",
       "      <td>1</td>\n",
       "      <td>non-anginal pain</td>\n",
       "      <td>130</td>\n",
       "      <td>250</td>\n",
       "      <td>0</td>\n",
       "      <td>1</td>\n",
       "      <td>187</td>\n",
       "      <td>0</td>\n",
       "      <td>3.5</td>\n",
       "      <td>0</td>\n",
       "      <td>0</td>\n",
       "      <td>2</td>\n",
       "      <td>1</td>\n",
       "    </tr>\n",
       "    <tr>\n",
       "      <th>2</th>\n",
       "      <td>41</td>\n",
       "      <td>0</td>\n",
       "      <td>atypical angina</td>\n",
       "      <td>130</td>\n",
       "      <td>204</td>\n",
       "      <td>0</td>\n",
       "      <td>0</td>\n",
       "      <td>172</td>\n",
       "      <td>0</td>\n",
       "      <td>1.4</td>\n",
       "      <td>2</td>\n",
       "      <td>0</td>\n",
       "      <td>2</td>\n",
       "      <td>1</td>\n",
       "    </tr>\n",
       "    <tr>\n",
       "      <th>3</th>\n",
       "      <td>56</td>\n",
       "      <td>1</td>\n",
       "      <td>atypical angina</td>\n",
       "      <td>120</td>\n",
       "      <td>236</td>\n",
       "      <td>0</td>\n",
       "      <td>1</td>\n",
       "      <td>178</td>\n",
       "      <td>0</td>\n",
       "      <td>0.8</td>\n",
       "      <td>2</td>\n",
       "      <td>0</td>\n",
       "      <td>2</td>\n",
       "      <td>1</td>\n",
       "    </tr>\n",
       "    <tr>\n",
       "      <th>4</th>\n",
       "      <td>57</td>\n",
       "      <td>0</td>\n",
       "      <td>typical angina</td>\n",
       "      <td>120</td>\n",
       "      <td>354</td>\n",
       "      <td>0</td>\n",
       "      <td>1</td>\n",
       "      <td>163</td>\n",
       "      <td>1</td>\n",
       "      <td>0.6</td>\n",
       "      <td>2</td>\n",
       "      <td>0</td>\n",
       "      <td>2</td>\n",
       "      <td>1</td>\n",
       "    </tr>\n",
       "    <tr>\n",
       "      <th>5</th>\n",
       "      <td>57</td>\n",
       "      <td>1</td>\n",
       "      <td>typical angina</td>\n",
       "      <td>140</td>\n",
       "      <td>192</td>\n",
       "      <td>0</td>\n",
       "      <td>1</td>\n",
       "      <td>148</td>\n",
       "      <td>0</td>\n",
       "      <td>0.4</td>\n",
       "      <td>1</td>\n",
       "      <td>0</td>\n",
       "      <td>1</td>\n",
       "      <td>1</td>\n",
       "    </tr>\n",
       "    <tr>\n",
       "      <th>6</th>\n",
       "      <td>56</td>\n",
       "      <td>0</td>\n",
       "      <td>atypical angina</td>\n",
       "      <td>140</td>\n",
       "      <td>294</td>\n",
       "      <td>0</td>\n",
       "      <td>0</td>\n",
       "      <td>153</td>\n",
       "      <td>0</td>\n",
       "      <td>1.3</td>\n",
       "      <td>1</td>\n",
       "      <td>0</td>\n",
       "      <td>2</td>\n",
       "      <td>1</td>\n",
       "    </tr>\n",
       "    <tr>\n",
       "      <th>7</th>\n",
       "      <td>44</td>\n",
       "      <td>1</td>\n",
       "      <td>atypical angina</td>\n",
       "      <td>120</td>\n",
       "      <td>263</td>\n",
       "      <td>0</td>\n",
       "      <td>1</td>\n",
       "      <td>173</td>\n",
       "      <td>0</td>\n",
       "      <td>0.0</td>\n",
       "      <td>2</td>\n",
       "      <td>0</td>\n",
       "      <td>3</td>\n",
       "      <td>1</td>\n",
       "    </tr>\n",
       "    <tr>\n",
       "      <th>8</th>\n",
       "      <td>52</td>\n",
       "      <td>1</td>\n",
       "      <td>non-anginal pain</td>\n",
       "      <td>172</td>\n",
       "      <td>199</td>\n",
       "      <td>1</td>\n",
       "      <td>1</td>\n",
       "      <td>162</td>\n",
       "      <td>0</td>\n",
       "      <td>0.5</td>\n",
       "      <td>2</td>\n",
       "      <td>0</td>\n",
       "      <td>3</td>\n",
       "      <td>1</td>\n",
       "    </tr>\n",
       "    <tr>\n",
       "      <th>9</th>\n",
       "      <td>57</td>\n",
       "      <td>1</td>\n",
       "      <td>non-anginal pain</td>\n",
       "      <td>150</td>\n",
       "      <td>168</td>\n",
       "      <td>0</td>\n",
       "      <td>1</td>\n",
       "      <td>174</td>\n",
       "      <td>0</td>\n",
       "      <td>1.6</td>\n",
       "      <td>2</td>\n",
       "      <td>0</td>\n",
       "      <td>2</td>\n",
       "      <td>1</td>\n",
       "    </tr>\n",
       "  </tbody>\n",
       "</table>\n",
       "</div>"
      ],
      "text/plain": [
       "   age  sex                cp  trtbps  chol  fbs  restecg  thalachh  exng  \\\n",
       "0   63    1      asymptomatic     145   233    1        0       150     0   \n",
       "1   37    1  non-anginal pain     130   250    0        1       187     0   \n",
       "2   41    0   atypical angina     130   204    0        0       172     0   \n",
       "3   56    1   atypical angina     120   236    0        1       178     0   \n",
       "4   57    0    typical angina     120   354    0        1       163     1   \n",
       "5   57    1    typical angina     140   192    0        1       148     0   \n",
       "6   56    0   atypical angina     140   294    0        0       153     0   \n",
       "7   44    1   atypical angina     120   263    0        1       173     0   \n",
       "8   52    1  non-anginal pain     172   199    1        1       162     0   \n",
       "9   57    1  non-anginal pain     150   168    0        1       174     0   \n",
       "\n",
       "   oldpeak  slp  caa  thall  output  \n",
       "0      2.3    0    0      1       1  \n",
       "1      3.5    0    0      2       1  \n",
       "2      1.4    2    0      2       1  \n",
       "3      0.8    2    0      2       1  \n",
       "4      0.6    2    0      2       1  \n",
       "5      0.4    1    0      1       1  \n",
       "6      1.3    1    0      2       1  \n",
       "7      0.0    2    0      3       1  \n",
       "8      0.5    2    0      3       1  \n",
       "9      1.6    2    0      2       1  "
      ]
     },
     "execution_count": 8,
     "metadata": {},
     "output_type": "execute_result"
    }
   ],
   "source": [
    "#Vraag 2\n",
    "heart.head(10)"
   ]
  },
  {
   "cell_type": "code",
   "execution_count": 9,
   "id": "67b80d96",
   "metadata": {},
   "outputs": [],
   "source": [
    "#Vraag 3\n",
    "#excng = categorisch nominaal\n",
    "#chol = numeriek continu\n",
    "\n"
   ]
  },
  {
   "cell_type": "code",
   "execution_count": 10,
   "id": "b9b1fa8c",
   "metadata": {},
   "outputs": [
    {
     "data": {
      "text/plain": [
       "typical angina      143\n",
       "non-anginal pain     87\n",
       "atypical angina      50\n",
       "asymptomatic         23\n",
       "Name: cp, dtype: int64"
      ]
     },
     "execution_count": 10,
     "metadata": {},
     "output_type": "execute_result"
    }
   ],
   "source": [
    "heart.cp.value_counts()"
   ]
  },
  {
   "cell_type": "code",
   "execution_count": 11,
   "id": "9bdaee17",
   "metadata": {},
   "outputs": [
    {
     "data": {
      "text/plain": [
       "<AxesSubplot:title={'center':'Boxplot of Cholesterol levels in patients'}>"
      ]
     },
     "execution_count": 11,
     "metadata": {},
     "output_type": "execute_result"
    },
    {
     "data": {
      "image/png": "[encoded data removed]",
      "text/plain": [
       "<Figure size 432x288 with 1 Axes>"
      ]
     },
     "metadata": {
      "needs_background": "light"
     },
     "output_type": "display_data"
    }
   ],
   "source": [
    "heart.chol.plot(kind='box', title='Boxplot of Cholesterol levels in patients')"
   ]
  },
  {
   "cell_type": "code",
   "execution_count": 12,
   "id": "d464941b",
   "metadata": {},
   "outputs": [
    {
     "data": {
      "image/png": "[encoded data removed]",
      "text/plain": [
       "<Figure size 360x360 with 1 Axes>"
      ]
     },
     "metadata": {},
     "output_type": "display_data"
    }
   ],
   "source": [
    "pie_data = heart['slp'].value_counts()\n",
    "pie_plot = pie_data.plot.pie(figsize=(5,5), autopct = '%3.1f%%', title = \"Slope\")\n"
   ]
  },
  {
   "cell_type": "code",
   "execution_count": 23,
   "id": "39775345",
   "metadata": {},
   "outputs": [
    {
     "data": {
      "image/png": "[encoded data removed]",
      "text/plain": [
       "<Figure size 360x360 with 1 Axes>"
      ]
     },
     "metadata": {
      "needs_background": "light"
     },
     "output_type": "display_data"
    }
   ],
   "source": [
    "plt.figure(figsize=(5,5))\n",
    "sns.scatterplot(data=heart,x=heart.chol,y=heart.thalachh)\n",
    "plt.title('Verband tussen Cholesterol levels en Thalachh') #title\n",
    "plt.ylabel('Thalachh') #x label\n",
    "plt.xlabel('Chol levels') #y label\n",
    "plt.show()"
   ]
  },
  {
   "cell_type": "code",
   "execution_count": 14,
   "id": "d6cb07bb",
   "metadata": {},
   "outputs": [
    {
     "data": {
      "text/plain": [
       "0    0.666667\n",
       "1    0.156250\n",
       "2    0.135417\n",
       "3    0.041667\n",
       "Name: caa, dtype: float64"
      ]
     },
     "execution_count": 14,
     "metadata": {},
     "output_type": "execute_result"
    }
   ],
   "source": [
    "vrouwen = heart[heart.sex == 0]\n",
    "vrouwen.caa.value_counts(normalize=True)"
   ]
  },
  {
   "cell_type": "code",
   "execution_count": 15,
   "id": "dcf51649",
   "metadata": {},
   "outputs": [],
   "source": [
    "heart_ML = heart[['sex', 'trtbps', 'chol', 'restecg', 'exng', 'caa', 'thall']]\n"
   ]
  },
  {
   "cell_type": "code",
   "execution_count": 16,
   "id": "a0a80c3f",
   "metadata": {},
   "outputs": [
    {
     "data": {
      "text/html": [
       "<div>\n",
       "<style scoped>\n",
       "    .dataframe tbody tr th:only-of-type {\n",
       "        vertical-align: middle;\n",
       "    }\n",
       "\n",
       "    .dataframe tbody tr th {\n",
       "        vertical-align: top;\n",
       "    }\n",
       "\n",
       "    .dataframe thead th {\n",
       "        text-align: right;\n",
       "    }\n",
       "</style>\n",
       "<table border=\"1\" class=\"dataframe\">\n",
       "  <thead>\n",
       "    <tr style=\"text-align: right;\">\n",
       "      <th></th>\n",
       "      <th>sex</th>\n",
       "      <th>trtbps</th>\n",
       "      <th>chol</th>\n",
       "      <th>restecg</th>\n",
       "      <th>exng</th>\n",
       "      <th>caa</th>\n",
       "      <th>thall</th>\n",
       "    </tr>\n",
       "  </thead>\n",
       "  <tbody>\n",
       "    <tr>\n",
       "      <th>298</th>\n",
       "      <td>0</td>\n",
       "      <td>140</td>\n",
       "      <td>241</td>\n",
       "      <td>1</td>\n",
       "      <td>1</td>\n",
       "      <td>0</td>\n",
       "      <td>3</td>\n",
       "    </tr>\n",
       "    <tr>\n",
       "      <th>299</th>\n",
       "      <td>1</td>\n",
       "      <td>110</td>\n",
       "      <td>264</td>\n",
       "      <td>1</td>\n",
       "      <td>0</td>\n",
       "      <td>0</td>\n",
       "      <td>3</td>\n",
       "    </tr>\n",
       "    <tr>\n",
       "      <th>300</th>\n",
       "      <td>1</td>\n",
       "      <td>144</td>\n",
       "      <td>193</td>\n",
       "      <td>1</td>\n",
       "      <td>0</td>\n",
       "      <td>2</td>\n",
       "      <td>3</td>\n",
       "    </tr>\n",
       "    <tr>\n",
       "      <th>301</th>\n",
       "      <td>1</td>\n",
       "      <td>130</td>\n",
       "      <td>131</td>\n",
       "      <td>1</td>\n",
       "      <td>1</td>\n",
       "      <td>1</td>\n",
       "      <td>3</td>\n",
       "    </tr>\n",
       "    <tr>\n",
       "      <th>302</th>\n",
       "      <td>0</td>\n",
       "      <td>130</td>\n",
       "      <td>236</td>\n",
       "      <td>0</td>\n",
       "      <td>0</td>\n",
       "      <td>1</td>\n",
       "      <td>2</td>\n",
       "    </tr>\n",
       "  </tbody>\n",
       "</table>\n",
       "</div>"
      ],
      "text/plain": [
       "     sex  trtbps  chol  restecg  exng  caa  thall\n",
       "298    0     140   241        1     1    0      3\n",
       "299    1     110   264        1     0    0      3\n",
       "300    1     144   193        1     0    2      3\n",
       "301    1     130   131        1     1    1      3\n",
       "302    0     130   236        0     0    1      2"
      ]
     },
     "execution_count": 16,
     "metadata": {},
     "output_type": "execute_result"
    }
   ],
   "source": [
    "heart_ML.tail(5)"
   ]
  },
  {
   "cell_type": "code",
   "execution_count": 17,
   "id": "866be9cf",
   "metadata": {},
   "outputs": [],
   "source": [
    "X = heart_ML\n",
    "y = heart.output"
   ]
  },
  {
   "cell_type": "code",
   "execution_count": 18,
   "id": "d329a964",
   "metadata": {},
   "outputs": [],
   "source": [
    "X_train, X_test, y_train, y_test = train_test_split(X, y, test_size=0.25)"
   ]
  },
  {
   "cell_type": "code",
   "execution_count": 19,
   "id": "775b7c82",
   "metadata": {},
   "outputs": [
    {
     "data": {
      "image/png": "[encoded data removed]",
      "text/plain": [
       "<Figure size 864x864 with 1 Axes>"
      ]
     },
     "metadata": {
      "needs_background": "light"
     },
     "output_type": "display_data"
    }
   ],
   "source": [
    "model = tree.DecisionTreeClassifier(random_state=0, max_depth = 3)\n",
    "model = model.fit(X, y)\n",
    "plt.figure(figsize=(12,12))\n",
    "tree.plot_tree(model, fontsize=10)\n",
    "plt.show()"
   ]
  },
  {
   "cell_type": "code",
   "execution_count": 20,
   "id": "ca85d25b",
   "metadata": {},
   "outputs": [
    {
     "name": "stdout",
     "output_type": "stream",
     "text": [
      "Accuracy =  80.26315789473685 %\n"
     ]
    }
   ],
   "source": [
    "model = model.fit(X_train, y_train)\n",
    "y_pred = model.predict(X_test)\n",
    "print(\"Accuracy = \", accuracy_score(y_test, y_pred) * 100, \"%\")\t"
   ]
  },
  {
   "cell_type": "code",
   "execution_count": 21,
   "id": "31097914",
   "metadata": {},
   "outputs": [
    {
     "name": "stdout",
     "output_type": "stream",
     "text": [
      "3      1\n",
      "278    0\n",
      "177    0\n",
      "146    1\n",
      "274    0\n",
      "273    0\n",
      "88     1\n",
      "240    0\n",
      "285    0\n",
      "62     1\n",
      "265    0\n",
      "301    0\n",
      "198    0\n",
      "203    0\n",
      "242    0\n",
      "54     1\n",
      "43     1\n",
      "257    0\n",
      "238    0\n",
      "66     1\n",
      "Name: output, dtype: int64\n",
      "---------------------------------------------------------------------------\n",
      "[1 1 1 1 0 1 1 0 0 1 0 0 0 0 0 1 1 0 0 1]\n"
     ]
    }
   ],
   "source": [
    "print(y_test[0:20])\n",
    "print(\"-\"*75)  # print a line\n",
    "print(y_pred[0:20])"
   ]
  },
  {
   "cell_type": "code",
   "execution_count": null,
   "id": "cfe0681d",
   "metadata": {},
   "outputs": [],
   "source": []
  }
 ],
 "metadata": {
  "kernelspec": {
   "display_name": "Python 3 (ipykernel)",
   "language": "python",
   "name": "python3"
  },
  "language_info": {
   "codemirror_mode": {
    "name": "ipython",
    "version": 3
   },
   "file_extension": ".py",
   "mimetype": "text/x-python",
   "name": "python",
   "nbconvert_exporter": "python",
   "pygments_lexer": "ipython3",
   "version": "3.9.7"
  }
 },
 "nbformat": 4,
 "nbformat_minor": 5
}
