{
 "cells": [
  {
   "cell_type": "markdown",
   "metadata": {},
   "source": [
    "# Machine Learning with Regression"
   ]
  },
  {
   "cell_type": "markdown",
   "metadata": {},
   "source": [
    "## Contents\n",
    "1. **Loading** Boston dataset\n",
    "2. Splitting into **train**- and **test**-set\n",
    "3. Creating a **model** and training it\n",
    "4. **Predicting** test set\n",
    "5. **Evaluating** the result\n",
    "6. Using **other models**"
   ]
  },
  {
   "cell_type": "markdown",
   "metadata": {},
   "source": [
    "This notebook will explain how to make a regression analysis to predict features of our data. We will use a linear regression because the concept is easy to understand. The dataset we will use is the Boston-dataset from ScikitLearn.\n",
    "\n",
    "A regression analysis tries to fit a model to a certain dataset, just like classification did. However, classification tries to match a specific set of labels with the data. Regression allows us to predict continuous values, like numbers, even if we haven't seen an entry in the data with that number before.\n",
    "\n",
    "To start, we do some Python imports..."
   ]
  },
  {
   "cell_type": "code",
   "execution_count": 28,
   "metadata": {},
   "outputs": [],
   "source": [
    "%matplotlib inline\n",
    "import matplotlib.pyplot as plt\n",
    "import numpy as np\n",
    "from sklearn import datasets, linear_model"
   ]
  },
  {
   "cell_type": "markdown",
   "metadata": {},
   "source": [
    "## 1. Loading Boston dataset"
   ]
  },
  {
   "cell_type": "markdown",
   "metadata": {},
   "source": [
    "We load the dataset from the datasets module in sklearn."
   ]
  },
  {
   "cell_type": "code",
   "execution_count": 29,
   "metadata": {},
   "outputs": [],
   "source": [
    "boston = datasets.load_boston()"
   ]
  },
  {
   "cell_type": "markdown",
   "metadata": {},
   "source": [
    "The dataset contains a \"data\" and a \"target\" element. The \"data\"-element contains the features. The \"target\"-element contains the values we want to predict for each row in the data.\n",
    "We can check the dimensions of these arrays to see how many rows and features there are."
   ]
  },
  {
   "cell_type": "code",
   "execution_count": 30,
   "metadata": {},
   "outputs": [
    {
     "name": "stdout",
     "output_type": "stream",
     "text": [
      "Data is an (506, 13) array.\n",
      "Target is an (506,) array.\n"
     ]
    }
   ],
   "source": [
    "print(\"Data is an \" + str(boston.data.shape) + \" array.\")\n",
    "print(\"Target is an \" + str(boston.target.shape) + \" array.\")"
   ]
  },
  {
   "cell_type": "markdown",
   "metadata": {},
   "source": [
    "We can print the description of the dataset, to gain information about the data in the columns."
   ]
  },
  {
   "cell_type": "code",
   "execution_count": 31,
   "metadata": {
    "scrolled": true
   },
   "outputs": [
    {
     "name": "stdout",
     "output_type": "stream",
     "text": [
      ".. _boston_dataset:\n",
      "\n",
      "Boston house prices dataset\n",
      "---------------------------\n",
      "\n",
      "**Data Set Characteristics:**  \n",
      "\n",
      "    :Number of Instances: 506 \n",
      "\n",
      "    :Number of Attributes: 13 numeric/categorical predictive. Median Value (attribute 14) is usually the target.\n",
      "\n",
      "    :Attribute Information (in order):\n",
      "        - CRIM     per capita crime rate by town\n",
      "        - ZN       proportion of residential land zoned for lots over 25,000 sq.ft.\n",
      "        - INDUS    proportion of non-retail business acres per town\n",
      "        - CHAS     Charles River dummy variable (= 1 if tract bounds river; 0 otherwise)\n",
      "        - NOX      nitric oxides concentration (parts per 10 million)\n",
      "        - RM       average number of rooms per dwelling\n",
      "        - AGE      proportion of owner-occupied units built prior to 1940\n",
      "        - DIS      weighted distances to five Boston employment centres\n",
      "        - RAD      index of accessibility to radial highways\n",
      "        - TAX      full-value property-tax rate per $10,000\n",
      "        - PTRATIO  pupil-teacher ratio by town\n",
      "        - B        1000(Bk - 0.63)^2 where Bk is the proportion of black people by town\n",
      "        - LSTAT    % lower status of the population\n",
      "        - MEDV     Median value of owner-occupied homes in $1000's\n",
      "\n",
      "    :Missing Attribute Values: None\n",
      "\n",
      "    :Creator: Harrison, D. and Rubinfeld, D.L.\n",
      "\n",
      "This is a copy of UCI ML housing dataset.\n",
      "https://archive.ics.uci.edu/ml/machine-learning-databases/housing/\n",
      "\n",
      "\n",
      "This dataset was taken from the StatLib library which is maintained at Carnegie Mellon University.\n",
      "\n",
      "The Boston house-price data of Harrison, D. and Rubinfeld, D.L. 'Hedonic\n",
      "prices and the demand for clean air', J. Environ. Economics & Management,\n",
      "vol.5, 81-102, 1978.   Used in Belsley, Kuh & Welsch, 'Regression diagnostics\n",
      "...', Wiley, 1980.   N.B. Various transformations are used in the table on\n",
      "pages 244-261 of the latter.\n",
      "\n",
      "The Boston house-price data has been used in many machine learning papers that address regression\n",
      "problems.   \n",
      "     \n",
      ".. topic:: References\n",
      "\n",
      "   - Belsley, Kuh & Welsch, 'Regression diagnostics: Identifying Influential Data and Sources of Collinearity', Wiley, 1980. 244-261.\n",
      "   - Quinlan,R. (1993). Combining Instance-Based and Model-Based Learning. In Proceedings on the Tenth International Conference of Machine Learning, 236-243, University of Massachusetts, Amherst. Morgan Kaufmann.\n",
      "\n"
     ]
    }
   ],
   "source": [
    "print(boston.DESCR)"
   ]
  },
  {
   "cell_type": "markdown",
   "metadata": {},
   "source": [
    "Our Boston-dataset contains information about houses in Boston. Every house has a number of features, like the number of rooms or the crime rate in the town. Our goal is to predict the house's price from these features."
   ]
  },
  {
   "cell_type": "markdown",
   "metadata": {},
   "source": [
    "## 2. Splitting into train- and test-set"
   ]
  },
  {
   "cell_type": "markdown",
   "metadata": {},
   "source": [
    "We must prepare the data before we can use it in an algorithm. We must turn our data- and target-array into a train_X, train_y, test_X and test_y set. To do this, we will write a function that we can use througout the notebook. We could also use sklearn's function for this, like we did in the previous notebook. But to get a better understanding of what happens, we will do it ourselves.\n",
    "\n",
    "Write a function that:\n",
    "* Takes `data`, `target` and `splitsize=20` as parameters.\n",
    "* Splits the data into `X_train` and `X_test`.\n",
    "* Splits the target into `y_train` and `y_test`.\n",
    "\n",
    "Hint: In Python, you can select the last 5 elements from an array like this: `a[-5:]`."
   ]
  },
  {
   "cell_type": "code",
   "execution_count": 32,
   "metadata": {},
   "outputs": [],
   "source": [
    "def split_train_test(data, target, splitsize=100):\n",
    "    # TODO: complete this function\n",
    "        \n",
    "    X_train = data[:-splitsize:]\n",
    "    X_test  = data[-splitsize::]\n",
    "    \n",
    "    y_train = target[:-splitsize]\n",
    "    y_test  = target[-splitsize:]\n",
    "    \n",
    "    return X_train, y_train, X_test, y_test"
   ]
  },
  {
   "cell_type": "code",
   "execution_count": 33,
   "metadata": {},
   "outputs": [],
   "source": [
    "### SOLUTION ###\n",
    "def split_train_test(data, target, splitsize=100): #use train_test_split instead\n",
    "    \n",
    "    \n",
    "    X_train = data[:-splitsize:]\n",
    "    X_test  = data[-splitsize::]\n",
    "    \n",
    "    y_train = target[:-splitsize]\n",
    "    y_test  = target[-splitsize:]\n",
    "    \n",
    "    return X_train, y_train, X_test, y_test"
   ]
  },
  {
   "cell_type": "code",
   "execution_count": 34,
   "metadata": {},
   "outputs": [
    {
     "name": "stdout",
     "output_type": "stream",
     "text": [
      "X_train shape: (406, 13), y_train shape: (406,)\n",
      "X_test  shape: (100, 13) , y_test  shape: (100,)\n"
     ]
    }
   ],
   "source": [
    "X_train, y_train, X_test, y_test = split_train_test(boston.data, boston.target)\n",
    "print(\"X_train shape: {}, y_train shape: {}\".format(X_train.shape, y_train.shape))\n",
    "print(\"X_test  shape: {} , y_test  shape: {}\".format(X_test.shape, y_test.shape))"
   ]
  },
  {
   "cell_type": "markdown",
   "metadata": {},
   "source": [
    "Then call this function on the data and print the shape to confirm we split it the right way.\n",
    "\n",
    "The shapes should be `(486, 13)`, `(486,)`, `(20, 13)` and `(20,)`."
   ]
  },
  {
   "cell_type": "code",
   "execution_count": 35,
   "metadata": {},
   "outputs": [
    {
     "name": "stdout",
     "output_type": "stream",
     "text": [
      "X_train shape: (406, 13), y_train shape: (406,)\n",
      "X_test  shape: (100, 13) , y_test  shape: (100,)\n"
     ]
    }
   ],
   "source": [
    "X_train, y_train, X_test, y_test = split_train_test(boston.data, boston.target)\n",
    "print(\"X_train shape: {}, y_train shape: {}\".format(X_train.shape, y_train.shape))\n",
    "print(\"X_test  shape: {} , y_test  shape: {}\".format(X_test.shape, y_test.shape))"
   ]
  },
  {
   "cell_type": "markdown",
   "metadata": {},
   "source": [
    "## 3. Creating a model and training it"
   ]
  },
  {
   "cell_type": "markdown",
   "metadata": {},
   "source": [
    "Next, we will create a new model. For this, find the linear regression model in sklearn and call its constructor (without parameters)."
   ]
  },
  {
   "cell_type": "code",
   "execution_count": 36,
   "metadata": {},
   "outputs": [],
   "source": [
    "from sklearn.linear_model import LinearRegression\n",
    "\n",
    "model = LinearRegression()"
   ]
  },
  {
   "cell_type": "markdown",
   "metadata": {},
   "source": [
    "The model is still empty and doesn't know anything. Train (fit) it with our train-data, so that it learns things about our Boston-dataset."
   ]
  },
  {
   "cell_type": "code",
   "execution_count": 37,
   "metadata": {},
   "outputs": [],
   "source": [
    "# TODO: fit the train-data to the model\n",
    "\n",
    "model = LinearRegression().fit(X_train, y_train)\n"
   ]
  },
  {
   "cell_type": "markdown",
   "metadata": {},
   "source": [
    "## 4. Predicting test set"
   ]
  },
  {
   "cell_type": "markdown",
   "metadata": {},
   "source": [
    "Now we will use our trained model to make predictions about the test-data. This means that for the given X_test values, we will ask the model what the y_values would be, based on our X_train and y_train combinations.\n",
    "\n",
    "In sklearn, the model has a function for this. Predict the y_test values with this function. We will store these values as y_pred."
   ]
  },
  {
   "cell_type": "code",
   "execution_count": 38,
   "metadata": {},
   "outputs": [],
   "source": [
    "# TODO: predict y_pred from X_test\n",
    "\n",
    "y_pred = model.predict(X_test)"
   ]
  },
  {
   "cell_type": "markdown",
   "metadata": {},
   "source": [
    "## 5. Evaluating the result"
   ]
  },
  {
   "cell_type": "markdown",
   "metadata": {},
   "source": [
    "We now have y_test (the real values for X_test) and y_pred. We can print these values and compare them, to get an idea of how good the model predicted the data."
   ]
  },
  {
   "cell_type": "code",
   "execution_count": 39,
   "metadata": {},
   "outputs": [
    {
     "name": "stdout",
     "output_type": "stream",
     "text": [
      "[11.9 27.9 17.2 27.5 15.  17.2 17.9 16.3  7.   7.2  7.5 10.4  8.8  8.4\n",
      " 16.7 14.2 20.8 13.4 11.7  8.3 10.2 10.9 11.   9.5 14.5 14.1 16.1 14.3\n",
      " 11.7 13.4  9.6  8.7  8.4 12.8 10.5 17.1 18.4 15.4 10.8 11.8 14.9 12.6\n",
      " 14.1 13.  13.4 15.2 16.1 17.8 14.9 14.1 12.7 13.5 14.9 20.  16.4 17.7\n",
      " 19.5 20.2 21.4 19.9 19.  19.1 19.1 20.1 19.9 19.6 23.2 29.8 13.8 13.3\n",
      " 16.7 12.  14.6 21.4 23.  23.7 25.  21.8 20.6 21.2 19.1 20.6 15.2  7.\n",
      "  8.1 13.6 20.1 21.8 24.5 23.1 19.7 18.3 21.2 17.5 16.8 22.4 20.6 23.9\n",
      " 22.  11.9]\n",
      "---------------------------------------------------------------------------\n",
      "[ 6.78773999 21.36799098 15.4223225  23.76033841 17.13016219 22.37187582\n",
      "  4.78807891 12.57866911 -3.97029715 14.76372577 19.54860396  9.16562618\n",
      "  6.44114228 20.53859094 22.21632946 20.66936635 20.35159077 19.10683459\n",
      " 19.8297619  15.04289907 21.25617942 17.57407375 19.33484838 18.56738979\n",
      " 23.23984842 24.13612608 26.73026115 22.67047528 20.69095261 18.61089683\n",
      " 20.30019995 14.38639462  9.57112337 14.16710934 13.00806727 19.30807944\n",
      " 20.81923487 20.11283218 14.35373601 17.84058428 20.71288278 19.99190836\n",
      " 19.20049273 20.31997385 23.51129354 22.35996407 20.87018766 25.69260693\n",
      " 21.96657056 22.18243455 19.02123922 18.99366445 20.61652059 20.38369714\n",
      " 23.27572917 22.62638945 21.88657498 24.8859989  22.0773411  20.30117728\n",
      " 20.52284534 19.2706014  17.90566834 19.17514016 21.99071353 24.81851117\n",
      " 24.61307974 28.4125425  17.62825283 18.67441695 22.59272487 12.09813388\n",
      " 20.71015795 23.00793838 25.17655398 29.36848508 31.13049949 22.70448825\n",
      " 21.52983973 24.48953335 21.46564301 22.96373469 10.33375069  7.20195512\n",
      "  2.59796017 12.8195409  14.96059086 19.96963944 20.11927845 16.21450267\n",
      " 13.08827667 18.6332393  20.95182111 17.69888576 20.16519598 23.75712468\n",
      " 22.08271819 28.17783113 26.57052074 22.02122269]\n"
     ]
    }
   ],
   "source": [
    "print(y_test)\n",
    "print(\"-\"*75)  # print a line\n",
    "print(y_pred)"
   ]
  },
  {
   "cell_type": "markdown",
   "metadata": {},
   "source": [
    "However, it is hard to look at the numbers and decide how good the model was. We will need some kind of metric to evaluate our prediction. There are a lot of metrics we can use, so let's define two that are useful for regression."
   ]
  },
  {
   "cell_type": "markdown",
   "metadata": {},
   "source": [
    "### 5.1. Mean squared error"
   ]
  },
  {
   "cell_type": "markdown",
   "metadata": {},
   "source": [
    "The mean squared error (MSE) measures the average error in our predictions. Between each point and prediction, the error is measured. These errors can be positive or negative if the prediction is below or above the actual value, so we need to take the absolute value of the error. But as we want to punish grave mistakes harder, we also square the errors. Then the average is calculated over all these squared errors. The result is one number that can be compared across different models."
   ]
  },
  {
   "cell_type": "markdown",
   "metadata": {},
   "source": [
    "Write a function that:\n",
    "* Takes y_test en y_pred as parameters.\n",
    "* Calculates the mean squared error\n",
    "* Prints the result."
   ]
  },
  {
   "cell_type": "code",
   "execution_count": 40,
   "metadata": {},
   "outputs": [],
   "source": [
    "from sklearn.metrics import mean_squared_error\n",
    "\n",
    "def print_mean_squared_error(y_test, y_pred):   \n",
    "    # TODO: complete this function\n",
    "    \n",
    "    mse = mean_squared_error(y_pred, y_test)\n",
    "    \n",
    "    print(\"Mean squared error: {:.2f}\".format(mse))"
   ]
  },
  {
   "cell_type": "markdown",
   "metadata": {},
   "source": [
    "Let's calculate the mean squared error for our model."
   ]
  },
  {
   "cell_type": "code",
   "execution_count": 41,
   "metadata": {},
   "outputs": [
    {
     "name": "stdout",
     "output_type": "stream",
     "text": [
      "Mean squared error: 33.55\n"
     ]
    }
   ],
   "source": [
    "print_mean_squared_error(y_test, y_pred)"
   ]
  },
  {
   "cell_type": "markdown",
   "metadata": {},
   "source": [
    "The closer to 0.0 this value is, the better the model predicts the y_test values."
   ]
  },
  {
   "cell_type": "markdown",
   "metadata": {},
   "source": [
    "### 5.2. $R^2$ score"
   ]
  },
  {
   "cell_type": "markdown",
   "metadata": {},
   "source": [
    "Another metric to calculate how well our model performed is the $R^2$ score. This metric is often used in linear regression. It calculates the variance of our y_pred from our y_test by taking the square of the correlation coefficient between y_pred and y_test."
   ]
  },
  {
   "cell_type": "markdown",
   "metadata": {},
   "source": [
    "Write a function that:\n",
    "* Takes y_test en y_pred as parameters.\n",
    "* Calculates the $R^2$ score.\n",
    "* Prints the result."
   ]
  },
  {
   "cell_type": "code",
   "execution_count": 42,
   "metadata": {},
   "outputs": [],
   "source": [
    "from sklearn.metrics import r2_score\n",
    "\n",
    "def print_r2_score(y_pred, y_test):\n",
    "    # TODO: complete this function\n",
    "    \n",
    "    r2 = r2_score(y_pred, y_test)\n",
    "    \n",
    "    print(\"R2 score: {:.2f}\".format(r2))"
   ]
  },
  {
   "cell_type": "code",
   "execution_count": 43,
   "metadata": {},
   "outputs": [],
   "source": [
    "from sklearn import tree\n",
    "\n",
    "#model =  # TODO: create a decision tree classifier\n",
    "\n",
    "#model = tree.DecisionTreeRegressor(random_state=0)   #set tree levels with max_depth\n",
    "#model = model.fit(boston.data, boston.target)\n",
    "#plt.figure(figsize=(12,12))  # set plot size (denoted in inches)\n",
    "#tree.plot_tree(model, fontsize=10)\n",
    "#plt.show()"
   ]
  },
  {
   "cell_type": "markdown",
   "metadata": {},
   "source": [
    "Now we calculate the $R^2$ score for our trained model."
   ]
  },
  {
   "cell_type": "code",
   "execution_count": 44,
   "metadata": {},
   "outputs": [
    {
     "name": "stdout",
     "output_type": "stream",
     "text": [
      "R2 score: -0.31\n"
     ]
    }
   ],
   "source": [
    "print_r2_score(y_test, y_pred)"
   ]
  },
  {
   "cell_type": "markdown",
   "metadata": {},
   "source": [
    "If this value is 1.0, our model made a perfect prediction of the true data."
   ]
  },
  {
   "cell_type": "markdown",
   "metadata": {},
   "source": [
    "### 5.3. Visualising the result"
   ]
  },
  {
   "cell_type": "markdown",
   "metadata": {},
   "source": [
    "These values are easier to understand if we can visualise the data in some way.\n",
    "\n",
    "For this we write a function that visualises the actual and the predicted data. Because this function has little to do with machine learning and a lot more with Python's visualisation library Matplotlib, it is given below."
   ]
  },
  {
   "cell_type": "code",
   "execution_count": 45,
   "metadata": {},
   "outputs": [],
   "source": [
    "def visualise_features(X_test, y_test, y_pred, column=0):\n",
    "    # we can only visualise two dimensions, so if the data has more columns, select one\n",
    "    if len(X_test) > 1:\n",
    "        X_test = X_test[:, column]\n",
    "    \n",
    "    plt.scatter(X_test, y_test, color='blue', label='True data')\n",
    "    plt.scatter(X_test, y_pred, color='orange', label='Predicted')\n",
    "    plt.xlabel(\"Features\")\n",
    "    plt.ylabel(\"Labels\")\n",
    "    plt.legend(loc='best')\n",
    "    plt.show()"
   ]
  },
  {
   "cell_type": "markdown",
   "metadata": {},
   "source": [
    "Let's use this function to plot the data. To explain what we're seeing: the x-axis shows the X_test values of a certain column. The y-axis shows the y_test labels in blue and the y_pred labels in orange. So for every value on the x-axis, there will be two y-values. The orange dot should be as close to the blue dot as possible for us to have a good model."
   ]
  },
  {
   "cell_type": "code",
   "execution_count": 46,
   "metadata": {},
   "outputs": [
    {
     "data": {
      "image/png": "[encoded data removed]",
      "text/plain": [
       "<Figure size 432x288 with 1 Axes>"
      ]
     },
     "metadata": {
      "needs_background": "light"
     },
     "output_type": "display_data"
    }
   ],
   "source": [
    "visualise_features(X_test, y_test, y_pred, column=12)"
   ]
  },
  {
   "cell_type": "markdown",
   "metadata": {},
   "source": [
    "Looking at this plot, we see that the predicted values sometimes come close to the real ones, and sometimes they are completely different. What is important to notice is that our orange predicted dots all seem to follow one line (more or less). This is to be expected, as we used a linear model to predict our data. Linear models assume our data has a linear shape and try to find the best linear model for the data."
   ]
  },
  {
   "cell_type": "markdown",
   "metadata": {},
   "source": [
    "Our prediction differs from our perfectly linear model however. The reason for this is simple: we used all the columns in the data to predict the final label. But when we visualised the data, we picked only one column for the X-axis. To demonstrate, let's train the model on just one column of our data."
   ]
  },
  {
   "cell_type": "code",
   "execution_count": 47,
   "metadata": {},
   "outputs": [
    {
     "data": {
      "image/png": "[encoded data removed]",
      "text/plain": [
       "<Figure size 432x288 with 1 Axes>"
      ]
     },
     "metadata": {
      "needs_background": "light"
     },
     "output_type": "display_data"
    }
   ],
   "source": [
    "column = 12  # we'll only consider the data's 12th column\n",
    "X_train, y_train, X_test, y_test = split_train_test(boston.data[:, column:column+1], boston.target)\n",
    "\n",
    "# TODO: fill this in with the model, as before\n",
    "model = model.fit(X_train, y_train) \n",
    "\n",
    "# TODO: train the model as before\n",
    "model = LinearRegression().fit(X_train, y_train)\n",
    "\n",
    "# TODO: predict y_pred as before\n",
    "y_pred = model.predict(X_test)\n",
    "\n",
    "\n",
    "visualise_features(X_test, y_test, y_pred, column=0)"
   ]
  },
  {
   "cell_type": "markdown",
   "metadata": {},
   "source": [
    "Now, we see our prediction is perfectly linear. "
   ]
  },
  {
   "cell_type": "markdown",
   "metadata": {},
   "source": [
    "## 6. Using other models"
   ]
  },
  {
   "cell_type": "markdown",
   "metadata": {},
   "source": [
    "Sklearn contains a lot of models. After turning our data into a train- and test-dataset, we can apply multiple models to it. Below is a list of model names. Try to find each of them in sklearn and call the constructor."
   ]
  },
  {
   "cell_type": "code",
   "execution_count": 48,
   "metadata": {},
   "outputs": [
    {
     "ename": "SyntaxError",
     "evalue": "invalid syntax (Temp/ipykernel_34748/2926009061.py, line 4)",
     "output_type": "error",
     "traceback": [
      "\u001b[1;36m  File \u001b[1;32m\"C:\\Users\\Rasmus\\AppData\\Local\\Temp/ipykernel_34748/2926009061.py\"\u001b[1;36m, line \u001b[1;32m4\u001b[0m\n\u001b[1;33m    \"Linear Regression\": ,  # TODO: fill in (don't forget the comma at the end)\u001b[0m\n\u001b[1;37m                         ^\u001b[0m\n\u001b[1;31mSyntaxError\u001b[0m\u001b[1;31m:\u001b[0m invalid syntax\n"
     ]
    }
   ],
   "source": [
    "from sklearn import svm\n",
    "\n",
    "models = {\n",
    "    \"Linear Regression\": ,  # TODO: fill in (don't forget the comma at the end)\n",
    "    \"Support Vector Machine (SVM)\": ,\n",
    "    \"Stochastic Gradient Descent (SGD) Regressor\": ,\n",
    "    \"Bayesian Ridge Regression\": ,\n",
    "    \"Lasso model with Least Angle Regression (Lars)\": ,\n",
    "    \"Automatic Relevance Determination (ARD) Regression\": ,\n",
    "    \"Passive Aggressive Regressor\": ,\n",
    "    \"Theil-Sen Regression\": \n",
    "}"
   ]
  },
  {
   "cell_type": "markdown",
   "metadata": {},
   "source": [
    "Now we can use this list of models and apply them all to our data. If we print the names and the scores, we can compare them and find the best model for our data.\n",
    "\n",
    "As before, train the model and predict the data."
   ]
  },
  {
   "cell_type": "code",
   "execution_count": 49,
   "metadata": {},
   "outputs": [
    {
     "ename": "SyntaxError",
     "evalue": "invalid syntax (Temp/ipykernel_34748/71408082.py, line 6)",
     "output_type": "error",
     "traceback": [
      "\u001b[1;36m  File \u001b[1;32m\"C:\\Users\\Rasmus\\AppData\\Local\\Temp/ipykernel_34748/71408082.py\"\u001b[1;36m, line \u001b[1;32m6\u001b[0m\n\u001b[1;33m    y_pred =  # TODO: predict y_pred as before\u001b[0m\n\u001b[1;37m              ^\u001b[0m\n\u001b[1;31mSyntaxError\u001b[0m\u001b[1;31m:\u001b[0m invalid syntax\n"
     ]
    }
   ],
   "source": [
    "X_train, y_train, X_test, y_test = split_train_test(boston.data, boston.target)\n",
    "\n",
    "for modelName, model in models.items():  # iterate over all models\n",
    "    print(modelName)\n",
    "              # TODO: train the model as before\n",
    "    y_pred =  # TODO: predict y_pred as before\n",
    "    print_mean_squared_error(y_test, y_pred)\n",
    "    print_r2_score(y_test, y_pred)\n",
    "    print(\"-\"*75)  # print a line"
   ]
  },
  {
   "cell_type": "markdown",
   "metadata": {},
   "source": [
    "Remember, the mean squared error should be closest to 0 and the $R^2$ score closest to 1. Did one of the other models perform better than the linear regression model we used first?"
   ]
  }
 ],
 "metadata": {
  "kernelspec": {
   "display_name": "Python 3 (ipykernel)",
   "language": "python",
   "name": "python3"
  },
  "language_info": {
   "codemirror_mode": {
    "name": "ipython",
    "version": 3
   },
   "file_extension": ".py",
   "mimetype": "text/x-python",
   "name": "python",
   "nbconvert_exporter": "python",
   "pygments_lexer": "ipython3",
   "version": "3.9.7"
  }
 },
 "nbformat": 4,
 "nbformat_minor": 1
}
