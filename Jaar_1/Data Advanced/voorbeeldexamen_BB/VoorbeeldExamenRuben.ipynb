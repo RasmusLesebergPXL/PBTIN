{
 "cells": [
  {
   "cell_type": "code",
   "execution_count": 24,
   "id": "e536ec5f",
   "metadata": {},
   "outputs": [],
   "source": [
    "# Vraag 1: Lees de dataset heart_ex.csv in, en noem de lijst ‘heart’\n",
    "\n",
    "import pandas as pd \n",
    "import matplotlib.pyplot as plt\n",
    "from sklearn.model_selection import train_test_split\n",
    "from sklearn import tree\n",
    "from sklearn import metrics\n",
    "from sklearn.naive_bayes import BernoulliNB\n",
    "from sklearn.svm import LinearSVC\n",
    "from sklearn.linear_model import LogisticRegression\n",
    "from sklearn.metrics import accuracy_score\n",
    "from sklearn import datasets, linear_model\n",
    "from sklearn.preprocessing import MinMaxScaler\n",
    "from sklearn.metrics import precision_score\n",
    "\n",
    "heart = pd.read_csv(\"heart_ex.csv\")"
   ]
  },
  {
   "cell_type": "code",
   "execution_count": 2,
   "id": "bb189ea9",
   "metadata": {},
   "outputs": [
    {
     "data": {
      "text/html": [
       "<div>\n",
       "<style scoped>\n",
       "    .dataframe tbody tr th:only-of-type {\n",
       "        vertical-align: middle;\n",
       "    }\n",
       "\n",
       "    .dataframe tbody tr th {\n",
       "        vertical-align: top;\n",
       "    }\n",
       "\n",
       "    .dataframe thead th {\n",
       "        text-align: right;\n",
       "    }\n",
       "</style>\n",
       "<table border=\"1\" class=\"dataframe\">\n",
       "  <thead>\n",
       "    <tr style=\"text-align: right;\">\n",
       "      <th></th>\n",
       "      <th>age</th>\n",
       "      <th>sex</th>\n",
       "      <th>cp</th>\n",
       "      <th>trtbps</th>\n",
       "      <th>chol</th>\n",
       "      <th>fbs</th>\n",
       "      <th>restecg</th>\n",
       "      <th>thalachh</th>\n",
       "      <th>exng</th>\n",
       "      <th>oldpeak</th>\n",
       "      <th>slp</th>\n",
       "      <th>caa</th>\n",
       "      <th>thall</th>\n",
       "      <th>output</th>\n",
       "    </tr>\n",
       "  </thead>\n",
       "  <tbody>\n",
       "    <tr>\n",
       "      <th>0</th>\n",
       "      <td>63</td>\n",
       "      <td>1</td>\n",
       "      <td>asymptomatic</td>\n",
       "      <td>145</td>\n",
       "      <td>233</td>\n",
       "      <td>1</td>\n",
       "      <td>0</td>\n",
       "      <td>150</td>\n",
       "      <td>0</td>\n",
       "      <td>2.3</td>\n",
       "      <td>0</td>\n",
       "      <td>0</td>\n",
       "      <td>1</td>\n",
       "      <td>1</td>\n",
       "    </tr>\n",
       "    <tr>\n",
       "      <th>1</th>\n",
       "      <td>37</td>\n",
       "      <td>1</td>\n",
       "      <td>non-anginal pain</td>\n",
       "      <td>130</td>\n",
       "      <td>250</td>\n",
       "      <td>0</td>\n",
       "      <td>1</td>\n",
       "      <td>187</td>\n",
       "      <td>0</td>\n",
       "      <td>3.5</td>\n",
       "      <td>0</td>\n",
       "      <td>0</td>\n",
       "      <td>2</td>\n",
       "      <td>1</td>\n",
       "    </tr>\n",
       "    <tr>\n",
       "      <th>2</th>\n",
       "      <td>41</td>\n",
       "      <td>0</td>\n",
       "      <td>atypical angina</td>\n",
       "      <td>130</td>\n",
       "      <td>204</td>\n",
       "      <td>0</td>\n",
       "      <td>0</td>\n",
       "      <td>172</td>\n",
       "      <td>0</td>\n",
       "      <td>1.4</td>\n",
       "      <td>2</td>\n",
       "      <td>0</td>\n",
       "      <td>2</td>\n",
       "      <td>1</td>\n",
       "    </tr>\n",
       "    <tr>\n",
       "      <th>3</th>\n",
       "      <td>56</td>\n",
       "      <td>1</td>\n",
       "      <td>atypical angina</td>\n",
       "      <td>120</td>\n",
       "      <td>236</td>\n",
       "      <td>0</td>\n",
       "      <td>1</td>\n",
       "      <td>178</td>\n",
       "      <td>0</td>\n",
       "      <td>0.8</td>\n",
       "      <td>2</td>\n",
       "      <td>0</td>\n",
       "      <td>2</td>\n",
       "      <td>1</td>\n",
       "    </tr>\n",
       "    <tr>\n",
       "      <th>4</th>\n",
       "      <td>57</td>\n",
       "      <td>0</td>\n",
       "      <td>typical angina</td>\n",
       "      <td>120</td>\n",
       "      <td>354</td>\n",
       "      <td>0</td>\n",
       "      <td>1</td>\n",
       "      <td>163</td>\n",
       "      <td>1</td>\n",
       "      <td>0.6</td>\n",
       "      <td>2</td>\n",
       "      <td>0</td>\n",
       "      <td>2</td>\n",
       "      <td>1</td>\n",
       "    </tr>\n",
       "    <tr>\n",
       "      <th>5</th>\n",
       "      <td>57</td>\n",
       "      <td>1</td>\n",
       "      <td>typical angina</td>\n",
       "      <td>140</td>\n",
       "      <td>192</td>\n",
       "      <td>0</td>\n",
       "      <td>1</td>\n",
       "      <td>148</td>\n",
       "      <td>0</td>\n",
       "      <td>0.4</td>\n",
       "      <td>1</td>\n",
       "      <td>0</td>\n",
       "      <td>1</td>\n",
       "      <td>1</td>\n",
       "    </tr>\n",
       "    <tr>\n",
       "      <th>6</th>\n",
       "      <td>56</td>\n",
       "      <td>0</td>\n",
       "      <td>atypical angina</td>\n",
       "      <td>140</td>\n",
       "      <td>294</td>\n",
       "      <td>0</td>\n",
       "      <td>0</td>\n",
       "      <td>153</td>\n",
       "      <td>0</td>\n",
       "      <td>1.3</td>\n",
       "      <td>1</td>\n",
       "      <td>0</td>\n",
       "      <td>2</td>\n",
       "      <td>1</td>\n",
       "    </tr>\n",
       "    <tr>\n",
       "      <th>7</th>\n",
       "      <td>44</td>\n",
       "      <td>1</td>\n",
       "      <td>atypical angina</td>\n",
       "      <td>120</td>\n",
       "      <td>263</td>\n",
       "      <td>0</td>\n",
       "      <td>1</td>\n",
       "      <td>173</td>\n",
       "      <td>0</td>\n",
       "      <td>0.0</td>\n",
       "      <td>2</td>\n",
       "      <td>0</td>\n",
       "      <td>3</td>\n",
       "      <td>1</td>\n",
       "    </tr>\n",
       "    <tr>\n",
       "      <th>8</th>\n",
       "      <td>52</td>\n",
       "      <td>1</td>\n",
       "      <td>non-anginal pain</td>\n",
       "      <td>172</td>\n",
       "      <td>199</td>\n",
       "      <td>1</td>\n",
       "      <td>1</td>\n",
       "      <td>162</td>\n",
       "      <td>0</td>\n",
       "      <td>0.5</td>\n",
       "      <td>2</td>\n",
       "      <td>0</td>\n",
       "      <td>3</td>\n",
       "      <td>1</td>\n",
       "    </tr>\n",
       "    <tr>\n",
       "      <th>9</th>\n",
       "      <td>57</td>\n",
       "      <td>1</td>\n",
       "      <td>non-anginal pain</td>\n",
       "      <td>150</td>\n",
       "      <td>168</td>\n",
       "      <td>0</td>\n",
       "      <td>1</td>\n",
       "      <td>174</td>\n",
       "      <td>0</td>\n",
       "      <td>1.6</td>\n",
       "      <td>2</td>\n",
       "      <td>0</td>\n",
       "      <td>2</td>\n",
       "      <td>1</td>\n",
       "    </tr>\n",
       "  </tbody>\n",
       "</table>\n",
       "</div>"
      ],
      "text/plain": [
       "   age  sex                cp  trtbps  chol  fbs  restecg  thalachh  exng  \\\n",
       "0   63    1      asymptomatic     145   233    1        0       150     0   \n",
       "1   37    1  non-anginal pain     130   250    0        1       187     0   \n",
       "2   41    0   atypical angina     130   204    0        0       172     0   \n",
       "3   56    1   atypical angina     120   236    0        1       178     0   \n",
       "4   57    0    typical angina     120   354    0        1       163     1   \n",
       "5   57    1    typical angina     140   192    0        1       148     0   \n",
       "6   56    0   atypical angina     140   294    0        0       153     0   \n",
       "7   44    1   atypical angina     120   263    0        1       173     0   \n",
       "8   52    1  non-anginal pain     172   199    1        1       162     0   \n",
       "9   57    1  non-anginal pain     150   168    0        1       174     0   \n",
       "\n",
       "   oldpeak  slp  caa  thall  output  \n",
       "0      2.3    0    0      1       1  \n",
       "1      3.5    0    0      2       1  \n",
       "2      1.4    2    0      2       1  \n",
       "3      0.8    2    0      2       1  \n",
       "4      0.6    2    0      2       1  \n",
       "5      0.4    1    0      1       1  \n",
       "6      1.3    1    0      2       1  \n",
       "7      0.0    2    0      3       1  \n",
       "8      0.5    2    0      3       1  \n",
       "9      1.6    2    0      2       1  "
      ]
     },
     "execution_count": 2,
     "metadata": {},
     "output_type": "execute_result"
    }
   ],
   "source": [
    "# Vraag 2: Toon de 10 eerste rijen van de dataset \"heart\"\n",
    "\n",
    "heart[0:10]"
   ]
  },
  {
   "cell_type": "code",
   "execution_count": 3,
   "id": "a0da081b",
   "metadata": {},
   "outputs": [
    {
     "name": "stdout",
     "output_type": "stream",
     "text": [
      "exng: categorisch ordinaal\n",
      "chol: numeriek continu\n"
     ]
    }
   ],
   "source": [
    "# Vraag 3: Wat voor soort (categorisch ordinaal – categorisch nominaal – numeriek discreet – numeriek continu) variabele is\n",
    "\n",
    "print(\"exng: categorisch ordinaal\")\n",
    "print(\"chol: numeriek continu\")"
   ]
  },
  {
   "cell_type": "code",
   "execution_count": 4,
   "id": "863c610e",
   "metadata": {},
   "outputs": [
    {
     "data": {
      "text/plain": [
       "typical angina      143\n",
       "non-anginal pain     87\n",
       "atypical angina      50\n",
       "asymptomatic         23\n",
       "Name: cp, dtype: int64"
      ]
     },
     "execution_count": 4,
     "metadata": {},
     "output_type": "execute_result"
    }
   ],
   "source": [
    "# Vraag 4: Hoeveel types chest pain (cp) zijn er? \n",
    "#          Geef per type weer hoeveel keer het voorkomt (geen grafiek, enkel de cijfers).\n",
    "\n",
    "heart['cp'].value_counts()"
   ]
  },
  {
   "cell_type": "code",
   "execution_count": 5,
   "id": "31ca368e",
   "metadata": {},
   "outputs": [
    {
     "data": {
      "image/png": "[encoded data removed]",
      "text/plain": [
       "<Figure size 432x288 with 1 Axes>"
      ]
     },
     "metadata": {
      "needs_background": "light"
     },
     "output_type": "display_data"
    }
   ],
   "source": [
    "# Vraag 5: Maak een grafiek van de aantallen patiënten naar cholesterolwaarden? \n",
    "#          Bepaal zelf welk type grafiek hier het best voor in aanmerking komt.\n",
    "\n",
    "x = heart.chol.plot(kind = 'box')"
   ]
  },
  {
   "cell_type": "code",
   "execution_count": 6,
   "id": "3d2e4d6c",
   "metadata": {},
   "outputs": [
    {
     "data": {
      "text/plain": [
       "<AxesSubplot:title={'center':'Slope'}, ylabel='slp'>"
      ]
     },
     "execution_count": 6,
     "metadata": {},
     "output_type": "execute_result"
    },
    {
     "data": {
      "image/png": "[encoded data removed]",
      "text/plain": [
       "<Figure size 360x360 with 1 Axes>"
      ]
     },
     "metadata": {},
     "output_type": "display_data"
    }
   ],
   "source": [
    "# Vraag 6: Maak een cirkeldiagram van de slope (slp).\n",
    "\n",
    "heart['slp'].value_counts().plot.pie(title = \"Slope\", autopct = '%0.2f%%', figsize=(5,5))"
   ]
  },
  {
   "cell_type": "code",
   "execution_count": 7,
   "id": "ad5fdd07",
   "metadata": {},
   "outputs": [
    {
     "data": {
      "image/png": "[encoded data removed]",
      "text/plain": [
       "<Figure size 432x288 with 1 Axes>"
      ]
     },
     "metadata": {
      "needs_background": "light"
     },
     "output_type": "display_data"
    }
   ],
   "source": [
    "# Vraag 8: Ga na of er een verband is tussen de cholesterol-waarde (chol) \n",
    "#             en de hoogst bereikte waarde voor hartslag (thalachh).\n",
    "\n",
    "plt.scatter(heart.chol, heart.thalachh)\n",
    "plt.show()"
   ]
  },
  {
   "cell_type": "code",
   "execution_count": 8,
   "id": "562bd70a",
   "metadata": {},
   "outputs": [
    {
     "name": "stdout",
     "output_type": "stream",
     "text": [
      "0    64\n",
      "1    15\n",
      "2    13\n",
      "3     4\n",
      "Name: caa, dtype: int64\n"
     ]
    }
   ],
   "source": [
    "# Vraag 9a: Welk aantal grote bloedvaten van het hart (caa) komt het meest voor bij vrouwen? \n",
    "\n",
    "heart_vrouwen = heart[heart.sex == 0]\n",
    "print(heart_vrouwen.caa.value_counts())"
   ]
  },
  {
   "cell_type": "code",
   "execution_count": 9,
   "id": "9ea06279",
   "metadata": {},
   "outputs": [
    {
     "name": "stdout",
     "output_type": "stream",
     "text": [
      "0.6666666666666666\n"
     ]
    }
   ],
   "source": [
    "# Vraag 9b: Hoeveel procent van de vrouwen heeft dit?\n",
    "\n",
    "print(heart_vrouwen.caa.value_counts().max() / heart_vrouwen.caa.value_counts().sum())"
   ]
  },
  {
   "cell_type": "code",
   "execution_count": 10,
   "id": "566ca140",
   "metadata": {},
   "outputs": [],
   "source": [
    "# Vraag 11: Maak een nieuwe dataset heart_ML ('age', 'sex', 'trtbps','chol','restecg', 'exng')\n",
    "\n",
    "heart_ML = pd.DataFrame(data = heart, columns = ['age', 'sex', 'trtbps','chol','restecg', 'exng'])\n",
    "heart_ML['target'] = heart.output"
   ]
  },
  {
   "cell_type": "code",
   "execution_count": 11,
   "id": "99a037b0",
   "metadata": {},
   "outputs": [
    {
     "data": {
      "text/html": [
       "<div>\n",
       "<style scoped>\n",
       "    .dataframe tbody tr th:only-of-type {\n",
       "        vertical-align: middle;\n",
       "    }\n",
       "\n",
       "    .dataframe tbody tr th {\n",
       "        vertical-align: top;\n",
       "    }\n",
       "\n",
       "    .dataframe thead th {\n",
       "        text-align: right;\n",
       "    }\n",
       "</style>\n",
       "<table border=\"1\" class=\"dataframe\">\n",
       "  <thead>\n",
       "    <tr style=\"text-align: right;\">\n",
       "      <th></th>\n",
       "      <th>age</th>\n",
       "      <th>sex</th>\n",
       "      <th>trtbps</th>\n",
       "      <th>chol</th>\n",
       "      <th>restecg</th>\n",
       "      <th>exng</th>\n",
       "      <th>target</th>\n",
       "    </tr>\n",
       "  </thead>\n",
       "  <tbody>\n",
       "    <tr>\n",
       "      <th>298</th>\n",
       "      <td>57</td>\n",
       "      <td>0</td>\n",
       "      <td>140</td>\n",
       "      <td>241</td>\n",
       "      <td>1</td>\n",
       "      <td>1</td>\n",
       "      <td>0</td>\n",
       "    </tr>\n",
       "    <tr>\n",
       "      <th>299</th>\n",
       "      <td>45</td>\n",
       "      <td>1</td>\n",
       "      <td>110</td>\n",
       "      <td>264</td>\n",
       "      <td>1</td>\n",
       "      <td>0</td>\n",
       "      <td>0</td>\n",
       "    </tr>\n",
       "    <tr>\n",
       "      <th>300</th>\n",
       "      <td>68</td>\n",
       "      <td>1</td>\n",
       "      <td>144</td>\n",
       "      <td>193</td>\n",
       "      <td>1</td>\n",
       "      <td>0</td>\n",
       "      <td>0</td>\n",
       "    </tr>\n",
       "    <tr>\n",
       "      <th>301</th>\n",
       "      <td>57</td>\n",
       "      <td>1</td>\n",
       "      <td>130</td>\n",
       "      <td>131</td>\n",
       "      <td>1</td>\n",
       "      <td>1</td>\n",
       "      <td>0</td>\n",
       "    </tr>\n",
       "    <tr>\n",
       "      <th>302</th>\n",
       "      <td>57</td>\n",
       "      <td>0</td>\n",
       "      <td>130</td>\n",
       "      <td>236</td>\n",
       "      <td>0</td>\n",
       "      <td>0</td>\n",
       "      <td>0</td>\n",
       "    </tr>\n",
       "  </tbody>\n",
       "</table>\n",
       "</div>"
      ],
      "text/plain": [
       "     age  sex  trtbps  chol  restecg  exng  target\n",
       "298   57    0     140   241        1     1       0\n",
       "299   45    1     110   264        1     0       0\n",
       "300   68    1     144   193        1     0       0\n",
       "301   57    1     130   131        1     1       0\n",
       "302   57    0     130   236        0     0       0"
      ]
     },
     "execution_count": 11,
     "metadata": {},
     "output_type": "execute_result"
    }
   ],
   "source": [
    "# Vraag 12: Toon de laatste 5 rijen van dataset heart_ML\n",
    "\n",
    "heart_ML.tail()"
   ]
  },
  {
   "cell_type": "code",
   "execution_count": 12,
   "id": "943ba716",
   "metadata": {},
   "outputs": [],
   "source": [
    "# Vraag 13: Zet input (features) in X en output in y\n",
    "\n",
    "X = heart[['age', 'trtbps', 'chol', 'sex', 'restecg', 'exng', 'caa', 'thall']]\n",
    "y = heart_ML.target"
   ]
  },
  {
   "cell_type": "code",
   "execution_count": 13,
   "id": "2ab958ff",
   "metadata": {},
   "outputs": [],
   "source": [
    "# Vraag 14: Neem 75% als training data en 25% als testing data"
   ]
  },
  {
   "cell_type": "code",
   "execution_count": 14,
   "id": "4e659942",
   "metadata": {},
   "outputs": [],
   "source": [
    "X_train, X_test, y_train, y_test = train_test_split(X, y, test_size=0.25, random_state=42)"
   ]
  },
  {
   "cell_type": "code",
   "execution_count": 15,
   "id": "9f2f3b14",
   "metadata": {},
   "outputs": [],
   "source": [
    "# Vraag 15: Pas één van de geziene ML algoritmes toe om y_pred te bepalen. \n",
    "# Zorg ervoor dat de voorspelling minstens 75% nauwkeurig is"
   ]
  },
  {
   "cell_type": "code",
   "execution_count": 16,
   "id": "74e41063",
   "metadata": {},
   "outputs": [
    {
     "data": {
      "text/plain": [
       "0.6973684210526315"
      ]
     },
     "execution_count": 16,
     "metadata": {},
     "output_type": "execute_result"
    }
   ],
   "source": [
    "#1)\n",
    "\n",
    "model =  tree.DecisionTreeClassifier(random_state=0)\n",
    "model =  model.fit(X_train, y_train)\n",
    "y_pred = model.predict(X_test)\n",
    "\n",
    "metrics.accuracy_score(y_test, y_pred)"
   ]
  },
  {
   "cell_type": "code",
   "execution_count": 17,
   "id": "f89a2c09",
   "metadata": {},
   "outputs": [
    {
     "data": {
      "text/plain": [
       "0.7368421052631579"
      ]
     },
     "execution_count": 17,
     "metadata": {},
     "output_type": "execute_result"
    }
   ],
   "source": [
    "#2)\n",
    "\n",
    "classifier = BernoulliNB().fit(X_train, y_train)\n",
    "y_predict_naive = classifier.predict(X_test)\n",
    "\n",
    "metrics.accuracy_score(y_test, y_predict_naive)"
   ]
  },
  {
   "cell_type": "code",
   "execution_count": 18,
   "id": "acf3bab9",
   "metadata": {},
   "outputs": [
    {
     "name": "stderr",
     "output_type": "stream",
     "text": [
      "C:\\Users\\ruben\\anaconda3\\lib\\site-packages\\sklearn\\svm\\_base.py:985: ConvergenceWarning: Liblinear failed to converge, increase the number of iterations.\n",
      "  warnings.warn(\"Liblinear failed to converge, increase \"\n"
     ]
    },
    {
     "data": {
      "text/plain": [
       "0.5263157894736842"
      ]
     },
     "execution_count": 18,
     "metadata": {},
     "output_type": "execute_result"
    }
   ],
   "source": [
    "#3)\n",
    "\n",
    "clf = LinearSVC().fit(X_train, y_train)\n",
    "y_pred_lsvm = clf.predict(X_test)\n",
    "\n",
    "metrics.accuracy_score(y_test, y_pred_lsvm)"
   ]
  },
  {
   "cell_type": "code",
   "execution_count": 19,
   "id": "62730063",
   "metadata": {},
   "outputs": [
    {
     "name": "stdout",
     "output_type": "stream",
     "text": [
      "0.75\n"
     ]
    }
   ],
   "source": [
    "#4)\n",
    "\n",
    "logistic_model = LogisticRegression(penalty= 'l2', solver='liblinear').fit(X_train, y_train)\n",
    "y_pred = logistic_model.predict(X_test)\n",
    "acc = accuracy_score(y_test, y_pred)\n",
    "\n",
    "print(acc)"
   ]
  },
  {
   "cell_type": "code",
   "execution_count": 20,
   "id": "1a8d352c",
   "metadata": {},
   "outputs": [],
   "source": [
    "# Vraag 16: Print de eerste 20 rijen van de voorspelde y-waarde (y_pred) en de werkelijke y-waarde"
   ]
  },
  {
   "cell_type": "code",
   "execution_count": 21,
   "id": "49b57c0d",
   "metadata": {},
   "outputs": [
    {
     "name": "stdout",
     "output_type": "stream",
     "text": [
      "179    0\n",
      "228    0\n",
      "111    1\n",
      "246    0\n",
      "60     1\n",
      "9      1\n",
      "119    1\n",
      "223    0\n",
      "268    0\n",
      "33     1\n",
      "5      1\n",
      "101    1\n",
      "45     1\n",
      "175    0\n",
      "118    1\n",
      "46     1\n",
      "125    1\n",
      "192    0\n",
      "285    0\n",
      "279    0\n",
      "Name: target, dtype: int64\n",
      "---------------------------------------------------------------------------\n",
      "[0 1 1 0 1 1 0 0 0 1 1 1 1 0 1 1 1 0 0 0]\n"
     ]
    }
   ],
   "source": [
    "print(y_test[0:20])\n",
    "print(\"-\"*75)  # print a line\n",
    "print(y_pred[0:20])"
   ]
  },
  {
   "cell_type": "code",
   "execution_count": 28,
   "id": "015382a6",
   "metadata": {},
   "outputs": [
    {
     "name": "stdout",
     "output_type": "stream",
     "text": [
      "Precision (Vorige Selectie) =  90.9090909090909 %\n",
      "Precision (Algemeen) =  76.19047619047619 %\n"
     ]
    }
   ],
   "source": [
    "# Vraag 17: Hoe nauwkeurig is deze voorspelling?\n",
    "\n",
    "print(\"Precision (Vorige Selectie) = \", precision_score(y_test[0:20], y_pred[0:20]) * 100, \"%\")\n",
    "print(\"Precision (Algemeen) = \", precision_score(y_test, y_pred) * 100, \"%\")"
   ]
  }
 ],
 "metadata": {
  "kernelspec": {
   "display_name": "Python 3 (ipykernel)",
   "language": "python",
   "name": "python3"
  },
  "language_info": {
   "codemirror_mode": {
    "name": "ipython",
    "version": 3
   },
   "file_extension": ".py",
   "mimetype": "text/x-python",
   "name": "python",
   "nbconvert_exporter": "python",
   "pygments_lexer": "ipython3",
   "version": "3.9.7"
  }
 },
 "nbformat": 4,
 "nbformat_minor": 5
}
