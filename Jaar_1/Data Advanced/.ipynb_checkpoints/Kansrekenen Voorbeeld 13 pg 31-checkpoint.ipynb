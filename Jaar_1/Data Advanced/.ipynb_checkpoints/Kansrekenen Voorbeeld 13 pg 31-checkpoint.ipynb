{
 "cells": [
  {
   "cell_type": "code",
   "execution_count": 2,
   "metadata": {},
   "outputs": [],
   "source": [
    "import random\n",
    "from random import randint\n",
    "import numpy as np"
   ]
  },
  {
   "cell_type": "code",
   "execution_count": 1,
   "metadata": {},
   "outputs": [],
   "source": [
    "aantal_studenten = 475\n",
    "aantal_vakken = 3"
   ]
  },
  {
   "cell_type": "code",
   "execution_count": 10,
   "metadata": {},
   "outputs": [],
   "source": [
    "#To Do: Creëer een 2 dim list \"data\". Aantal rijen = aantal_studenten / aantal kolommen = aantal_vakken. \n",
    "#Vul deze op met de juiste verdeling van 'ja' & 'neen' zoals voorzien in voorbeeld 13 pg 31\n",
    "#Kolom1 = Python volgen\n",
    "#Kolom2 = SQL volgen\n",
    "#Kolom3 = Data Adv volgen"
   ]
  },
  {
   "cell_type": "code",
   "execution_count": 11,
   "metadata": {},
   "outputs": [
    {
     "name": "stdout",
     "output_type": "stream",
     "text": [
      "[['ja', 'ja', 'ja'], ['ja', 'ja', 'ja'], ['ja', 'ja', 'ja'], ['ja', 'ja', 'ja'], ['ja', 'ja', 'ja'], ['ja', 'ja', 'ja'], ['ja', 'ja', 'ja'], ['ja', 'ja', 'ja'], ['ja', 'ja', 'ja'], ['ja', 'ja', 'ja'], ['ja', 'ja', 'ja'], ['ja', 'ja', 'ja'], ['ja', 'ja', 'ja'], ['ja', 'ja', 'ja'], ['ja', 'ja', 'ja'], ['ja', 'ja', 'ja'], ['ja', 'ja', 'ja'], ['ja', 'ja', 'ja'], ['ja', 'ja', 'ja'], ['ja', 'ja', 'ja'], ['ja', 'ja', 'ja'], ['ja', 'ja', 'ja'], ['ja', 'ja', 'ja'], ['ja', 'ja', 'ja'], ['ja', 'ja', 'ja'], ['nee', 'ja', 'ja'], ['nee', 'ja', 'ja'], ['nee', 'ja', 'ja'], ['nee', 'ja', 'ja'], ['nee', 'ja', 'ja'], ['nee', 'ja', 'ja'], ['nee', 'ja', 'ja'], ['nee', 'ja', 'ja'], ['nee', 'ja', 'ja'], ['nee', 'ja', 'ja'], ['nee', 'ja', 'ja'], ['nee', 'ja', 'ja'], ['nee', 'ja', 'ja'], ['nee', 'ja', 'ja'], ['nee', 'ja', 'ja'], ['nee', 'ja', 'ja'], ['nee', 'ja', 'ja'], ['nee', 'ja', 'ja'], ['nee', 'ja', 'ja'], ['nee', 'ja', 'ja'], ['nee', 'ja', 'ja'], ['nee', 'ja', 'ja'], ['nee', 'ja', 'ja'], ['nee', 'ja', 'ja'], ['nee', 'ja', 'ja'], ['nee', 'ja', 'ja'], ['nee', 'ja', 'ja'], ['nee', 'ja', 'ja'], ['nee', 'ja', 'ja'], ['nee', 'ja', 'ja'], ['nee', 'ja', 'ja'], ['nee', 'ja', 'ja'], ['nee', 'ja', 'ja'], ['nee', 'ja', 'ja'], ['nee', 'ja', 'ja'], ['ja', 'ja', 'nee'], ['ja', 'ja', 'nee'], ['ja', 'ja', 'nee'], ['ja', 'ja', 'nee'], ['ja', 'ja', 'nee'], ['ja', 'ja', 'nee'], ['ja', 'ja', 'nee'], ['ja', 'ja', 'nee'], ['ja', 'ja', 'nee'], ['ja', 'ja', 'nee'], ['ja', 'ja', 'nee'], ['ja', 'ja', 'nee'], ['ja', 'ja', 'nee'], ['ja', 'ja', 'nee'], ['ja', 'ja', 'nee'], ['ja', 'ja', 'nee'], ['ja', 'ja', 'nee'], ['ja', 'ja', 'nee'], ['ja', 'ja', 'nee'], ['ja', 'ja', 'nee'], ['ja', 'ja', 'nee'], ['ja', 'ja', 'nee'], ['ja', 'ja', 'nee'], ['ja', 'ja', 'nee'], ['ja', 'ja', 'nee'], ['ja', 'ja', 'nee'], ['ja', 'ja', 'nee'], ['ja', 'ja', 'nee'], ['ja', 'ja', 'nee'], ['ja', 'ja', 'nee'], ['ja', 'ja', 'nee'], ['ja', 'ja', 'nee'], ['ja', 'ja', 'nee'], ['ja', 'ja', 'nee'], ['ja', 'ja', 'nee'], ['ja', 'ja', 'nee'], ['ja', 'ja', 'nee'], ['ja', 'ja', 'nee'], ['ja', 'ja', 'nee'], ['ja', 'ja', 'nee'], ['ja', 'ja', 'nee'], ['ja', 'ja', 'nee'], ['ja', 'ja', 'nee'], ['ja', 'ja', 'nee'], ['ja', 'ja', 'nee'], ['ja', 'ja', 'nee'], ['ja', 'ja', 'nee'], ['ja', 'ja', 'nee'], ['ja', 'ja', 'nee'], ['ja', 'ja', 'nee'], ['ja', 'ja', 'nee'], ['ja', 'ja', 'nee'], ['ja', 'ja', 'nee'], ['ja', 'ja', 'nee'], ['ja', 'ja', 'nee'], ['ja', 'nee', 'ja'], ['ja', 'nee', 'ja'], ['ja', 'nee', 'ja'], ['ja', 'nee', 'ja'], ['ja', 'nee', 'ja'], ['ja', 'nee', 'ja'], ['ja', 'nee', 'ja'], ['ja', 'nee', 'ja'], ['ja', 'nee', 'ja'], ['ja', 'nee', 'ja'], ['ja', 'nee', 'ja'], ['ja', 'nee', 'ja'], ['ja', 'nee', 'ja'], ['ja', 'nee', 'ja'], ['ja', 'nee', 'ja'], ['ja', 'nee', 'ja'], ['ja', 'nee', 'ja'], ['ja', 'nee', 'ja'], ['ja', 'nee', 'ja'], ['ja', 'nee', 'ja'], ['ja', 'nee', 'ja'], ['ja', 'nee', 'ja'], ['ja', 'nee', 'ja'], ['ja', 'nee', 'ja'], ['ja', 'nee', 'ja'], ['ja', 'nee', 'ja'], ['ja', 'nee', 'ja'], ['ja', 'nee', 'ja'], ['ja', 'nee', 'ja'], ['ja', 'nee', 'ja'], ['ja', 'nee', 'ja'], ['ja', 'nee', 'ja'], ['ja', 'nee', 'ja'], ['ja', 'nee', 'ja'], ['ja', 'nee', 'ja'], ['ja', 'nee', 'ja'], ['ja', 'nee', 'ja'], ['ja', 'nee', 'ja'], ['ja', 'nee', 'ja'], ['ja', 'nee', 'ja'], ['ja', 'nee', 'ja'], ['ja', 'nee', 'ja'], ['ja', 'nee', 'ja'], ['ja', 'nee', 'ja'], ['ja', 'nee', 'ja'], ['ja', 'nee', 'ja'], ['ja', 'nee', 'ja'], ['ja', 'nee', 'ja'], ['ja', 'nee', 'ja'], ['ja', 'nee', 'ja'], ['ja', 'nee', 'ja'], ['ja', 'nee', 'ja'], ['ja', 'nee', 'ja'], ['ja', 'nee', 'ja'], ['ja', 'nee', 'ja'], ['ja', 'nee', 'ja'], ['ja', 'nee', 'ja'], ['ja', 'nee', 'ja'], ['ja', 'nee', 'ja'], ['ja', 'nee', 'ja'], ['ja', 'nee', 'ja'], ['ja', 'nee', 'ja'], ['ja', 'nee', 'ja'], ['ja', 'nee', 'ja'], ['ja', 'nee', 'ja'], ['ja', 'nee', 'ja'], ['ja', 'nee', 'ja'], ['ja', 'nee', 'ja'], ['ja', 'nee', 'ja'], ['ja', 'nee', 'ja'], ['ja', 'nee', 'ja'], ['ja', 'nee', 'ja'], ['ja', 'nee', 'ja'], ['ja', 'nee', 'ja'], ['ja', 'nee', 'ja'], ['ja', 'nee', 'ja'], ['ja', 'nee', 'ja'], ['ja', 'nee', 'ja'], ['ja', 'nee', 'ja'], ['ja', 'nee', 'ja'], ['ja', 'nee', 'ja'], ['ja', 'nee', 'ja'], ['ja', 'nee', 'ja'], ['ja', 'nee', 'ja'], ['ja', 'nee', 'ja'], ['ja', 'nee', 'ja'], ['ja', 'nee', 'ja'], ['ja', 'nee', 'ja'], ['ja', 'nee', 'ja'], ['ja', 'nee', 'ja'], ['ja', 'nee', 'ja'], ['ja', 'nee', 'ja'], ['ja', 'nee', 'ja'], ['ja', 'nee', 'ja'], ['ja', 'nee', 'ja'], ['ja', 'nee', 'ja'], ['ja', 'nee', 'ja'], ['ja', 'nee', 'ja'], ['ja', 'nee', 'ja'], ['ja', 'nee', 'ja'], ['ja', 'nee', 'ja'], ['ja', 'nee', 'ja'], ['ja', 'nee', 'ja'], ['ja', 'nee', 'ja'], ['ja', 'nee', 'ja'], ['ja', 'nee', 'ja'], ['ja', 'nee', 'ja'], ['ja', 'nee', 'ja'], ['ja', 'nee', 'ja'], ['ja', 'nee', 'ja'], ['ja', 'nee', 'ja'], ['ja', 'nee', 'ja'], ['ja', 'nee', 'ja'], ['ja', 'nee', 'ja'], ['ja', 'nee', 'ja'], ['ja', 'nee', 'ja'], ['ja', 'nee', 'ja'], ['ja', 'nee', 'ja'], ['ja', 'nee', 'ja'], ['ja', 'nee', 'ja'], ['ja', 'nee', 'ja'], ['ja', 'nee', 'ja'], ['ja', 'nee', 'ja'], ['ja', 'nee', 'ja'], ['ja', 'nee', 'ja'], ['ja', 'nee', 'ja'], ['ja', 'nee', 'ja'], ['ja', 'nee', 'ja'], ['ja', 'nee', 'ja'], ['ja', 'nee', 'ja'], ['ja', 'nee', 'ja'], ['ja', 'nee', 'ja'], ['ja', 'nee', 'ja'], ['ja', 'nee', 'ja'], ['ja', 'nee', 'ja'], ['ja', 'nee', 'ja'], ['ja', 'nee', 'ja'], ['ja', 'nee', 'ja'], ['ja', 'nee', 'ja'], ['ja', 'nee', 'ja'], ['ja', 'nee', 'ja'], ['ja', 'nee', 'ja'], ['ja', 'nee', 'ja'], ['ja', 'nee', 'ja'], ['ja', 'nee', 'ja'], ['ja', 'nee', 'ja'], ['ja', 'nee', 'ja'], ['ja', 'nee', 'ja'], ['ja', 'nee', 'ja'], ['ja', 'nee', 'ja'], ['ja', 'nee', 'ja'], ['ja', 'nee', 'ja'], ['ja', 'nee', 'ja'], ['ja', 'nee', 'ja'], ['ja', 'nee', 'ja'], ['ja', 'nee', 'ja'], ['ja', 'nee', 'ja'], ['ja', 'nee', 'ja'], ['ja', 'nee', 'ja'], ['ja', 'nee', 'ja'], ['ja', 'nee', 'ja'], ['ja', 'nee', 'ja'], ['ja', 'nee', 'ja'], ['ja', 'nee', 'ja'], ['ja', 'nee', 'ja'], ['ja', 'nee', 'ja'], ['ja', 'nee', 'ja'], ['ja', 'nee', 'ja'], ['ja', 'nee', 'ja'], ['ja', 'nee', 'ja'], ['ja', 'nee', 'ja'], ['ja', 'nee', 'ja'], ['ja', 'nee', 'ja'], ['ja', 'nee', 'ja'], ['ja', 'nee', 'ja'], ['ja', 'nee', 'nee'], ['ja', 'nee', 'nee'], ['ja', 'nee', 'nee'], ['ja', 'nee', 'nee'], ['ja', 'nee', 'nee'], ['ja', 'nee', 'nee'], ['ja', 'nee', 'nee'], ['ja', 'nee', 'nee'], ['ja', 'nee', 'nee'], ['ja', 'nee', 'nee'], ['ja', 'nee', 'nee'], ['ja', 'nee', 'nee'], ['ja', 'nee', 'nee'], ['ja', 'nee', 'nee'], ['ja', 'nee', 'nee'], ['ja', 'nee', 'nee'], ['ja', 'nee', 'nee'], ['ja', 'nee', 'nee'], ['ja', 'nee', 'nee'], ['ja', 'nee', 'nee'], ['ja', 'nee', 'nee'], ['ja', 'nee', 'nee'], ['ja', 'nee', 'nee'], ['ja', 'nee', 'nee'], ['ja', 'nee', 'nee'], ['ja', 'nee', 'nee'], ['ja', 'nee', 'nee'], ['ja', 'nee', 'nee'], ['ja', 'nee', 'nee'], ['ja', 'nee', 'nee'], ['ja', 'nee', 'nee'], ['ja', 'nee', 'nee'], ['ja', 'nee', 'nee'], ['ja', 'nee', 'nee'], ['ja', 'nee', 'nee'], ['ja', 'nee', 'nee'], ['ja', 'nee', 'nee'], ['ja', 'nee', 'nee'], ['ja', 'nee', 'nee'], ['ja', 'nee', 'nee'], ['ja', 'nee', 'nee'], ['ja', 'nee', 'nee'], ['ja', 'nee', 'nee'], ['ja', 'nee', 'nee'], ['ja', 'nee', 'nee'], ['ja', 'nee', 'nee'], ['ja', 'nee', 'nee'], ['ja', 'nee', 'nee'], ['ja', 'nee', 'nee'], ['ja', 'nee', 'nee'], ['ja', 'nee', 'nee'], ['ja', 'nee', 'nee'], ['ja', 'nee', 'nee'], ['ja', 'nee', 'nee'], ['ja', 'nee', 'nee'], ['ja', 'nee', 'nee'], ['ja', 'nee', 'nee'], ['ja', 'nee', 'nee'], ['ja', 'nee', 'nee'], ['ja', 'nee', 'nee'], ['ja', 'nee', 'nee'], ['ja', 'nee', 'nee'], ['ja', 'nee', 'nee'], ['ja', 'nee', 'nee'], ['ja', 'nee', 'nee'], ['nee', 'nee', 'ja'], ['nee', 'nee', 'ja'], ['nee', 'nee', 'ja'], ['nee', 'nee', 'ja'], ['nee', 'nee', 'ja'], ['nee', 'nee', 'ja'], ['nee', 'nee', 'ja'], ['nee', 'nee', 'ja'], ['nee', 'nee', 'ja'], ['nee', 'nee', 'ja'], ['nee', 'nee', 'ja'], ['nee', 'nee', 'ja'], ['nee', 'nee', 'ja'], ['nee', 'nee', 'ja'], ['nee', 'nee', 'ja'], ['nee', 'nee', 'ja'], ['nee', 'nee', 'ja'], ['nee', 'nee', 'ja'], ['nee', 'nee', 'ja'], ['nee', 'nee', 'ja'], ['nee', 'nee', 'ja'], ['nee', 'nee', 'ja'], ['nee', 'nee', 'ja'], ['nee', 'nee', 'ja'], ['nee', 'nee', 'ja'], ['nee', 'nee', 'ja'], ['nee', 'nee', 'ja'], ['nee', 'nee', 'ja'], ['nee', 'nee', 'ja'], ['nee', 'nee', 'ja'], ['nee', 'nee', 'ja'], ['nee', 'nee', 'ja'], ['nee', 'nee', 'ja'], ['nee', 'nee', 'ja'], ['nee', 'nee', 'ja'], ['nee', 'nee', 'ja'], ['nee', 'nee', 'ja'], ['nee', 'nee', 'ja'], ['nee', 'nee', 'ja'], ['nee', 'nee', 'ja'], ['nee', 'nee', 'ja'], ['nee', 'nee', 'ja'], ['nee', 'nee', 'ja'], ['nee', 'nee', 'ja'], ['nee', 'nee', 'ja'], ['nee', 'ja', 'nee'], ['nee', 'ja', 'nee'], ['nee', 'ja', 'nee'], ['nee', 'ja', 'nee'], ['nee', 'ja', 'nee'], ['nee', 'ja', 'nee'], ['nee', 'ja', 'nee'], ['nee', 'ja', 'nee'], ['nee', 'ja', 'nee'], ['nee', 'ja', 'nee'], ['nee', 'ja', 'nee'], ['nee', 'ja', 'nee'], ['nee', 'ja', 'nee'], ['nee', 'ja', 'nee'], ['nee', 'ja', 'nee'], ['nee', 'ja', 'nee'], ['nee', 'ja', 'nee'], ['nee', 'ja', 'nee'], ['nee', 'ja', 'nee'], ['nee', 'ja', 'nee'], ['nee', 'ja', 'nee'], ['nee', 'ja', 'nee'], ['nee', 'ja', 'nee'], ['nee', 'ja', 'nee'], ['nee', 'ja', 'nee'], ['nee', 'ja', 'nee'], ['nee', 'ja', 'nee'], ['nee', 'ja', 'nee'], ['nee', 'ja', 'nee'], ['nee', 'ja', 'nee'], ['nee', 'ja', 'nee'], ['nee', 'ja', 'nee'], ['nee', 'ja', 'nee'], ['nee', 'ja', 'nee'], ['nee', 'ja', 'nee'], ['nee', 'ja', 'nee'], ['nee', 'ja', 'nee'], ['nee', 'ja', 'nee'], ['nee', 'ja', 'nee'], ['nee', 'ja', 'nee'], ['nee', 'ja', 'nee'], ['nee', 'ja', 'nee'], ['nee', 'ja', 'nee'], ['nee', 'ja', 'nee'], ['nee', 'ja', 'nee'], ['nee', 'ja', 'nee'], ['nee', 'ja', 'nee'], ['nee', 'ja', 'nee'], ['nee', 'ja', 'nee'], ['nee', 'ja', 'nee'], ['nee', 'ja', 'nee'], ['nee', 'ja', 'nee'], ['nee', 'ja', 'nee'], ['nee', 'ja', 'nee'], ['nee', 'ja', 'nee'], ['nee', 'ja', 'nee'], ['nee', 'ja', 'nee'], ['nee', 'ja', 'nee'], ['nee', 'ja', 'nee'], ['nee', 'ja', 'nee'], ['nee', 'ja', 'nee'], ['nee', 'ja', 'nee'], ['nee', 'ja', 'nee'], ['nee', 'ja', 'nee'], ['nee', 'ja', 'nee'], ['nee', 'ja', 'nee'], ['nee', 'ja', 'nee'], ['nee', 'ja', 'nee'], ['nee', 'ja', 'nee'], ['nee', 'ja', 'nee'], ['nee', 'ja', 'nee'], ['nee', 'ja', 'nee'], ['nee', 'ja', 'nee'], ['nee', 'ja', 'nee'], ['nee', 'ja', 'nee']]\n"
     ]
    }
   ],
   "source": [
    "#Oplossing: List \"data\" creëren:\n",
    "\n",
    "\n",
    "arr = []\n",
    "for i in range(25):\n",
    "    arr.append(['ja', 'ja', 'ja'])\n",
    "for i in range(25, 60):\n",
    "    arr.append(['nee', 'ja', 'ja'])\n",
    "for i in range(60, 115):\n",
    "    arr.append(['ja', 'ja', 'nee'])\n",
    "for i in range(115, 290):\n",
    "    arr.append(['ja', 'nee', 'ja'])\n",
    "for i in range(290, 355):\n",
    "    arr.append(['ja', 'nee', 'nee'])\n",
    "for i in range(355, 400):\n",
    "    arr.append(['nee', 'nee', 'ja'])\n",
    "for i in range(400, 475):\n",
    "    arr.append(['nee', 'ja', 'nee'])\n",
    "    \n",
    "print(arr)\n",
    "    \n",
    "        \n"
   ]
  },
  {
   "cell_type": "code",
   "execution_count": null,
   "metadata": {},
   "outputs": [],
   "source": [
    "#To Do: Bereken de kans dat een willekeurig gekozen student\n",
    "#1. Python volgt maar geen Data adv\n",
    "#2. Data adv volgt maar geen SQL\n",
    "#3. Python of Data adv volgt, maar geen SQL\n",
    "#4. Python volgt, maar geen SQL en geen Data adv"
   ]
  },
  {
   "cell_type": "code",
   "execution_count": null,
   "metadata": {},
   "outputs": [],
   "source": [
    "#Oplossing 1: Python maar geen Data adv"
   ]
  },
  {
   "cell_type": "code",
   "execution_count": 12,
   "metadata": {},
   "outputs": [
    {
     "name": "stdout",
     "output_type": "stream",
     "text": [
      "Het aantal studenten dat Python volgt, maar geen data adv is  120\n",
      "De kans dat een student Python volgt maar geen data adv is  25.26 %\n"
     ]
    }
   ],
   "source": [
    "aantal_studenten = 475\n",
    "aantal = 0\n",
    "for i in range(len(arr)):\n",
    "    if arr[i][0] == 'ja' and arr[i][2] == 'nee':\n",
    "        aantal += 1\n",
    "\n",
    "\n",
    "\n",
    "print(\"Het aantal studenten dat Python volgt, maar geen data adv is \", aantal)\n",
    "print(\"De kans dat een student Python volgt maar geen data adv is \", round((aantal / aantal_studenten * 100), 2),\"%\")"
   ]
  },
  {
   "cell_type": "code",
   "execution_count": null,
   "metadata": {},
   "outputs": [],
   "source": [
    "#Oplossing 2: Data adv maar geen SQL"
   ]
  },
  {
   "cell_type": "code",
   "execution_count": 13,
   "metadata": {},
   "outputs": [
    {
     "name": "stdout",
     "output_type": "stream",
     "text": [
      "Het aantal studenten dat data adv volgt, maar geen SQL is  220\n",
      "De kans dat een student data adv volgt maar geen SQL is  46.32 %\n"
     ]
    }
   ],
   "source": [
    "aantal_studenten = 475\n",
    "aantal = 0\n",
    "for i in range(len(arr)):\n",
    "    if arr[i][2] == 'ja' and arr[i][1] == 'nee':\n",
    "        aantal += 1\n",
    "\n",
    "\n",
    "\n",
    "print(\"Het aantal studenten dat data adv volgt, maar geen SQL is \", aantal)\n",
    "print(\"De kans dat een student data adv volgt maar geen SQL is \", round((aantal / aantal_studenten * 100), 2),\"%\")"
   ]
  },
  {
   "cell_type": "code",
   "execution_count": null,
   "metadata": {},
   "outputs": [],
   "source": [
    "#Oplossing 3: Python of Data adv volgt, maar geen SQL"
   ]
  },
  {
   "cell_type": "code",
   "execution_count": 14,
   "metadata": {},
   "outputs": [
    {
     "name": "stdout",
     "output_type": "stream",
     "text": [
      "Het aantal studenten die python of data adv volgen maar niet SQL is  175\n",
      "De kans dat een student python of data adv volgt maar geen SQL is  36.84 %\n"
     ]
    }
   ],
   "source": [
    "aantal_studenten = 475\n",
    "aantal = 0\n",
    "for i in range(len(arr)):\n",
    "    if arr[i][0] == 'ja' and arr[i][1] == 'nee' and arr[i][2] == 'ja':\n",
    "        aantal += 1\n",
    "\n",
    "\n",
    "\n",
    "print(\"Het aantal studenten die python of data adv volgen maar niet SQL is \", aantal)\n",
    "print(\"De kans dat een student python of data adv volgt maar geen SQL is \", round((aantal / aantal_studenten * 100), 2),\"%\")"
   ]
  },
  {
   "cell_type": "code",
   "execution_count": 64,
   "metadata": {},
   "outputs": [],
   "source": [
    "#Oplossing 4: Python volgt, maar geen SQL en geen Data adv"
   ]
  },
  {
   "cell_type": "code",
   "execution_count": 15,
   "metadata": {},
   "outputs": [
    {
     "name": "stdout",
     "output_type": "stream",
     "text": [
      "Het aantal studenten die python volgt maar geen SQL en geen data adv is  65\n",
      "De kans dat een student python volgt maar geen SQL en geen data adv is  13.68 %\n"
     ]
    }
   ],
   "source": [
    "aantal_studenten = 475\n",
    "aantal = 0\n",
    "for i in range(len(arr)):\n",
    "    if arr[i][0] == 'ja' and arr[i][1] == 'nee' and arr[i][2] == 'nee':\n",
    "        aantal += 1\n",
    "\n",
    "\n",
    "\n",
    "\n",
    "print(\"Het aantal studenten die python volgt maar geen SQL en geen data adv is \", aantal)\n",
    "print(\"De kans dat een student python volgt maar geen SQL en geen data adv is \", round((aantal / aantal_studenten * 100), 2),\"%\")"
   ]
  },
  {
   "cell_type": "code",
   "execution_count": null,
   "metadata": {},
   "outputs": [],
   "source": []
  },
  {
   "cell_type": "code",
   "execution_count": null,
   "metadata": {},
   "outputs": [],
   "source": [
    "#To Do: Welke selectie wordt hieronder gemaakt?"
   ]
  },
  {
   "cell_type": "code",
   "execution_count": 16,
   "metadata": {},
   "outputs": [
    {
     "name": "stdout",
     "output_type": "stream",
     "text": [
      "Aantal is  365\n"
     ]
    }
   ],
   "source": [
    "aantal = 0\n",
    "for i in range(aantal_studenten):\n",
    "    if arr[i][0] == 'ja' or arr[i][2] == 'ja' and not(arr[i][1] == 'ja'):\n",
    "        aantal += 1\n",
    "print(\"Aantal is \", aantal)"
   ]
  },
  {
   "cell_type": "code",
   "execution_count": 67,
   "metadata": {},
   "outputs": [],
   "source": [
    "#Antwoord: Python of SQL volgt, maar geen Data\n"
   ]
  },
  {
   "cell_type": "code",
   "execution_count": null,
   "metadata": {},
   "outputs": [],
   "source": []
  },
  {
   "cell_type": "code",
   "execution_count": null,
   "metadata": {},
   "outputs": [],
   "source": [
    "# Extra Opgave"
   ]
  },
  {
   "cell_type": "code",
   "execution_count": null,
   "metadata": {},
   "outputs": [],
   "source": [
    "#To Do: Creëer een 2 dim list \"gegevens\". Aantal rijen = aantal_studenten (475) / aantal kolommen = aantal_vakken (3). \n",
    "#Vul deze op met 'ja' of 'neen'. Deze opvulling gebeurt random\n",
    "#Kolom1 = Python volgen\n",
    "#Kolom2 = SQL volgen\n",
    "#Kolom3 = Data Adv volgen"
   ]
  },
  {
   "cell_type": "code",
   "execution_count": 5,
   "metadata": {},
   "outputs": [
    {
     "name": "stdout",
     "output_type": "stream",
     "text": [
      "[['neen', 'ja', 'neen'], ['ja', 'neen', 'neen'], ['neen', 'ja', 'neen'], ['ja', 'ja', 'ja'], ['neen', 'neen', 'ja'], ['neen', 'neen', 'ja'], ['neen', 'ja', 'neen'], ['neen', 'ja', 'ja'], ['neen', 'ja', 'ja'], ['ja', 'neen', 'neen'], ['neen', 'neen', 'ja'], ['ja', 'ja', 'ja'], ['neen', 'neen', 'neen'], ['ja', 'ja', 'ja'], ['neen', 'ja', 'ja'], ['neen', 'neen', 'neen'], ['neen', 'ja', 'neen'], ['neen', 'ja', 'neen'], ['neen', 'ja', 'neen'], ['neen', 'neen', 'neen'], ['ja', 'neen', 'neen'], ['ja', 'ja', 'ja'], ['ja', 'neen', 'ja'], ['ja', 'neen', 'ja'], ['neen', 'ja', 'ja'], ['ja', 'neen', 'ja'], ['ja', 'neen', 'ja'], ['ja', 'neen', 'ja'], ['neen', 'ja', 'neen'], ['ja', 'ja', 'ja'], ['neen', 'neen', 'ja'], ['neen', 'neen', 'neen'], ['ja', 'neen', 'ja'], ['ja', 'neen', 'neen'], ['neen', 'neen', 'neen'], ['ja', 'neen', 'ja'], ['neen', 'neen', 'ja'], ['neen', 'ja', 'neen'], ['ja', 'ja', 'ja'], ['ja', 'ja', 'ja'], ['ja', 'neen', 'ja'], ['ja', 'ja', 'ja'], ['neen', 'ja', 'ja'], ['ja', 'neen', 'ja'], ['neen', 'ja', 'neen'], ['ja', 'neen', 'neen'], ['ja', 'neen', 'neen'], ['neen', 'neen', 'ja'], ['ja', 'ja', 'neen'], ['ja', 'neen', 'neen'], ['neen', 'neen', 'ja'], ['ja', 'ja', 'neen'], ['ja', 'neen', 'ja'], ['ja', 'neen', 'ja'], ['neen', 'neen', 'neen'], ['ja', 'neen', 'neen'], ['neen', 'neen', 'neen'], ['neen', 'neen', 'neen'], ['neen', 'ja', 'neen'], ['ja', 'neen', 'ja'], ['neen', 'neen', 'ja'], ['ja', 'neen', 'neen'], ['neen', 'ja', 'ja'], ['neen', 'neen', 'neen'], ['neen', 'neen', 'ja'], ['ja', 'neen', 'neen'], ['ja', 'ja', 'neen'], ['ja', 'ja', 'neen'], ['neen', 'neen', 'neen'], ['neen', 'neen', 'ja'], ['neen', 'neen', 'ja'], ['ja', 'ja', 'ja'], ['ja', 'neen', 'neen'], ['ja', 'neen', 'ja'], ['neen', 'neen', 'ja'], ['ja', 'neen', 'ja'], ['ja', 'neen', 'neen'], ['neen', 'ja', 'neen'], ['ja', 'neen', 'ja'], ['ja', 'ja', 'neen'], ['ja', 'ja', 'neen'], ['neen', 'neen', 'neen'], ['ja', 'neen', 'ja'], ['ja', 'neen', 'ja'], ['ja', 'neen', 'neen'], ['neen', 'neen', 'ja'], ['neen', 'ja', 'ja'], ['ja', 'ja', 'ja'], ['ja', 'ja', 'neen'], ['ja', 'neen', 'ja'], ['neen', 'ja', 'neen'], ['neen', 'neen', 'neen'], ['neen', 'ja', 'ja'], ['ja', 'ja', 'ja'], ['neen', 'ja', 'neen'], ['neen', 'ja', 'ja'], ['ja', 'ja', 'ja'], ['ja', 'neen', 'ja'], ['ja', 'neen', 'neen'], ['neen', 'ja', 'neen'], ['neen', 'ja', 'ja'], ['neen', 'neen', 'ja'], ['ja', 'ja', 'ja'], ['neen', 'neen', 'ja'], ['neen', 'ja', 'ja'], ['neen', 'ja', 'ja'], ['neen', 'neen', 'ja'], ['ja', 'neen', 'ja'], ['ja', 'neen', 'ja'], ['ja', 'ja', 'ja'], ['ja', 'neen', 'ja'], ['ja', 'neen', 'neen'], ['neen', 'neen', 'ja'], ['neen', 'ja', 'neen'], ['ja', 'ja', 'neen'], ['neen', 'neen', 'neen'], ['ja', 'ja', 'ja'], ['ja', 'neen', 'neen'], ['ja', 'ja', 'ja'], ['ja', 'ja', 'ja'], ['neen', 'neen', 'neen'], ['neen', 'neen', 'neen'], ['neen', 'ja', 'ja'], ['neen', 'neen', 'ja'], ['ja', 'ja', 'neen'], ['neen', 'ja', 'ja'], ['neen', 'ja', 'neen'], ['ja', 'ja', 'neen'], ['neen', 'neen', 'ja'], ['ja', 'neen', 'neen'], ['ja', 'ja', 'ja'], ['neen', 'neen', 'neen'], ['ja', 'neen', 'ja'], ['ja', 'neen', 'ja'], ['ja', 'neen', 'neen'], ['ja', 'ja', 'neen'], ['ja', 'neen', 'neen'], ['neen', 'ja', 'neen'], ['ja', 'ja', 'neen'], ['ja', 'ja', 'neen'], ['ja', 'neen', 'neen'], ['neen', 'neen', 'neen'], ['neen', 'neen', 'ja'], ['ja', 'neen', 'ja'], ['neen', 'ja', 'neen'], ['neen', 'ja', 'neen'], ['ja', 'neen', 'ja'], ['neen', 'ja', 'neen'], ['neen', 'ja', 'neen'], ['ja', 'neen', 'neen'], ['neen', 'ja', 'ja'], ['ja', 'neen', 'ja'], ['neen', 'ja', 'ja'], ['ja', 'ja', 'ja'], ['ja', 'ja', 'neen'], ['neen', 'neen', 'neen'], ['ja', 'neen', 'neen'], ['neen', 'ja', 'ja'], ['ja', 'neen', 'neen'], ['ja', 'ja', 'neen'], ['ja', 'ja', 'ja'], ['neen', 'neen', 'neen'], ['ja', 'neen', 'neen'], ['ja', 'neen', 'neen'], ['neen', 'ja', 'neen'], ['neen', 'neen', 'neen'], ['neen', 'ja', 'neen'], ['ja', 'ja', 'ja'], ['ja', 'neen', 'neen'], ['neen', 'neen', 'neen'], ['ja', 'ja', 'ja'], ['neen', 'ja', 'ja'], ['ja', 'ja', 'neen'], ['ja', 'neen', 'ja'], ['ja', 'neen', 'neen'], ['neen', 'ja', 'ja'], ['ja', 'neen', 'neen'], ['ja', 'ja', 'ja'], ['neen', 'neen', 'ja'], ['ja', 'ja', 'ja'], ['neen', 'ja', 'ja'], ['neen', 'neen', 'ja'], ['neen', 'ja', 'ja'], ['neen', 'ja', 'ja'], ['neen', 'ja', 'neen'], ['neen', 'ja', 'neen'], ['ja', 'neen', 'neen'], ['ja', 'neen', 'ja'], ['ja', 'ja', 'ja'], ['ja', 'neen', 'ja'], ['neen', 'ja', 'neen'], ['neen', 'neen', 'neen'], ['neen', 'neen', 'neen'], ['ja', 'neen', 'ja'], ['neen', 'ja', 'neen'], ['ja', 'neen', 'ja'], ['neen', 'ja', 'ja'], ['ja', 'neen', 'ja'], ['neen', 'neen', 'ja'], ['neen', 'neen', 'neen'], ['neen', 'neen', 'neen'], ['neen', 'ja', 'neen'], ['ja', 'ja', 'ja'], ['ja', 'ja', 'ja'], ['neen', 'ja', 'neen'], ['ja', 'ja', 'ja'], ['ja', 'neen', 'neen'], ['neen', 'neen', 'neen'], ['neen', 'ja', 'neen'], ['ja', 'neen', 'neen'], ['neen', 'ja', 'neen'], ['neen', 'ja', 'ja'], ['neen', 'ja', 'ja'], ['ja', 'ja', 'neen'], ['neen', 'neen', 'ja'], ['ja', 'ja', 'neen'], ['neen', 'neen', 'ja'], ['neen', 'neen', 'ja'], ['ja', 'ja', 'neen'], ['ja', 'ja', 'neen'], ['ja', 'neen', 'ja'], ['ja', 'neen', 'ja'], ['ja', 'ja', 'neen'], ['neen', 'ja', 'ja'], ['ja', 'ja', 'neen'], ['neen', 'ja', 'neen'], ['ja', 'ja', 'neen'], ['ja', 'ja', 'ja'], ['ja', 'ja', 'ja'], ['neen', 'ja', 'neen'], ['neen', 'ja', 'ja'], ['ja', 'ja', 'neen'], ['neen', 'ja', 'ja'], ['neen', 'ja', 'ja'], ['neen', 'neen', 'ja'], ['ja', 'ja', 'ja'], ['neen', 'neen', 'neen'], ['ja', 'neen', 'ja'], ['ja', 'ja', 'neen'], ['neen', 'ja', 'neen'], ['neen', 'neen', 'neen'], ['neen', 'neen', 'ja'], ['neen', 'neen', 'ja'], ['neen', 'ja', 'neen'], ['neen', 'ja', 'ja'], ['ja', 'neen', 'neen'], ['neen', 'neen', 'neen'], ['neen', 'neen', 'ja'], ['ja', 'neen', 'ja'], ['neen', 'ja', 'ja'], ['ja', 'ja', 'neen'], ['ja', 'neen', 'neen'], ['neen', 'ja', 'ja'], ['neen', 'neen', 'neen'], ['neen', 'neen', 'ja'], ['ja', 'neen', 'neen'], ['neen', 'neen', 'neen'], ['neen', 'ja', 'ja'], ['neen', 'ja', 'neen'], ['neen', 'neen', 'ja'], ['ja', 'neen', 'neen'], ['neen', 'neen', 'ja'], ['ja', 'neen', 'neen'], ['neen', 'ja', 'ja'], ['ja', 'ja', 'neen'], ['neen', 'ja', 'neen'], ['ja', 'neen', 'neen'], ['neen', 'neen', 'ja'], ['neen', 'neen', 'ja'], ['ja', 'ja', 'ja'], ['ja', 'neen', 'ja'], ['neen', 'neen', 'ja'], ['ja', 'ja', 'neen'], ['ja', 'ja', 'neen'], ['ja', 'neen', 'neen'], ['neen', 'neen', 'neen'], ['neen', 'ja', 'ja'], ['neen', 'neen', 'neen'], ['neen', 'neen', 'neen'], ['neen', 'ja', 'neen'], ['neen', 'ja', 'ja'], ['neen', 'neen', 'ja'], ['neen', 'ja', 'ja'], ['neen', 'neen', 'neen'], ['ja', 'ja', 'ja'], ['neen', 'neen', 'ja'], ['ja', 'neen', 'ja'], ['ja', 'ja', 'neen'], ['neen', 'neen', 'neen'], ['neen', 'neen', 'neen'], ['neen', 'ja', 'neen'], ['neen', 'ja', 'ja'], ['ja', 'ja', 'neen'], ['ja', 'neen', 'neen'], ['neen', 'ja', 'neen'], ['ja', 'ja', 'neen'], ['ja', 'ja', 'neen'], ['ja', 'neen', 'ja'], ['ja', 'ja', 'neen'], ['ja', 'neen', 'ja'], ['ja', 'ja', 'ja'], ['neen', 'ja', 'neen'], ['neen', 'neen', 'neen'], ['neen', 'neen', 'ja'], ['neen', 'ja', 'ja'], ['neen', 'ja', 'ja'], ['neen', 'ja', 'neen'], ['neen', 'ja', 'ja'], ['neen', 'neen', 'ja'], ['neen', 'neen', 'neen'], ['ja', 'neen', 'neen'], ['ja', 'ja', 'ja'], ['ja', 'neen', 'neen'], ['ja', 'neen', 'ja'], ['neen', 'neen', 'neen'], ['neen', 'neen', 'ja'], ['ja', 'ja', 'ja'], ['ja', 'ja', 'ja'], ['ja', 'ja', 'neen'], ['ja', 'neen', 'neen'], ['neen', 'neen', 'neen'], ['ja', 'neen', 'ja'], ['ja', 'ja', 'ja'], ['ja', 'ja', 'ja'], ['ja', 'neen', 'neen'], ['neen', 'neen', 'ja'], ['neen', 'ja', 'ja'], ['ja', 'neen', 'neen'], ['neen', 'neen', 'neen'], ['neen', 'neen', 'neen'], ['ja', 'neen', 'ja'], ['neen', 'neen', 'neen'], ['neen', 'neen', 'neen'], ['ja', 'neen', 'neen'], ['neen', 'neen', 'neen'], ['neen', 'neen', 'ja'], ['neen', 'neen', 'ja'], ['ja', 'ja', 'ja'], ['neen', 'ja', 'neen'], ['ja', 'neen', 'neen'], ['ja', 'ja', 'ja'], ['ja', 'neen', 'neen'], ['ja', 'ja', 'ja'], ['neen', 'ja', 'ja'], ['neen', 'neen', 'neen'], ['neen', 'neen', 'neen'], ['neen', 'neen', 'ja'], ['ja', 'ja', 'ja'], ['neen', 'ja', 'neen'], ['ja', 'neen', 'ja'], ['neen', 'ja', 'ja'], ['neen', 'ja', 'neen'], ['ja', 'ja', 'ja'], ['neen', 'ja', 'neen'], ['ja', 'ja', 'neen'], ['ja', 'ja', 'neen'], ['ja', 'neen', 'ja'], ['neen', 'neen', 'neen'], ['neen', 'ja', 'ja'], ['neen', 'neen', 'neen'], ['ja', 'neen', 'ja'], ['neen', 'ja', 'ja'], ['ja', 'ja', 'ja'], ['ja', 'ja', 'neen'], ['ja', 'neen', 'neen'], ['ja', 'neen', 'ja'], ['neen', 'neen', 'neen'], ['neen', 'neen', 'ja'], ['ja', 'ja', 'neen'], ['neen', 'neen', 'ja'], ['neen', 'ja', 'neen'], ['neen', 'ja', 'ja'], ['neen', 'ja', 'neen'], ['ja', 'ja', 'ja'], ['neen', 'ja', 'ja'], ['ja', 'neen', 'neen'], ['neen', 'neen', 'ja'], ['neen', 'ja', 'neen'], ['neen', 'neen', 'ja'], ['ja', 'neen', 'ja'], ['ja', 'neen', 'neen'], ['ja', 'ja', 'neen'], ['ja', 'neen', 'ja'], ['ja', 'ja', 'ja'], ['ja', 'neen', 'neen'], ['ja', 'ja', 'neen'], ['ja', 'neen', 'neen'], ['neen', 'ja', 'ja'], ['neen', 'neen', 'ja'], ['neen', 'ja', 'ja'], ['ja', 'neen', 'ja'], ['neen', 'neen', 'neen'], ['ja', 'ja', 'neen'], ['neen', 'neen', 'ja'], ['neen', 'ja', 'neen'], ['neen', 'neen', 'ja'], ['ja', 'neen', 'ja'], ['ja', 'neen', 'neen'], ['ja', 'neen', 'neen'], ['neen', 'neen', 'ja'], ['ja', 'neen', 'ja'], ['neen', 'neen', 'ja'], ['neen', 'ja', 'neen'], ['ja', 'ja', 'ja'], ['neen', 'ja', 'ja'], ['neen', 'neen', 'neen'], ['neen', 'ja', 'ja'], ['ja', 'ja', 'neen'], ['ja', 'ja', 'neen'], ['ja', 'ja', 'ja'], ['ja', 'neen', 'neen'], ['ja', 'neen', 'neen'], ['neen', 'ja', 'ja'], ['neen', 'ja', 'neen'], ['ja', 'neen', 'ja'], ['ja', 'ja', 'ja'], ['ja', 'neen', 'neen'], ['ja', 'ja', 'neen'], ['ja', 'neen', 'ja'], ['ja', 'ja', 'ja'], ['neen', 'neen', 'ja'], ['neen', 'ja', 'ja'], ['ja', 'neen', 'neen'], ['ja', 'neen', 'neen'], ['neen', 'ja', 'neen'], ['neen', 'neen', 'neen'], ['ja', 'neen', 'ja'], ['ja', 'neen', 'neen'], ['neen', 'ja', 'neen'], ['ja', 'ja', 'ja'], ['ja', 'neen', 'ja'], ['ja', 'ja', 'neen'], ['ja', 'ja', 'ja'], ['ja', 'neen', 'ja'], ['ja', 'neen', 'ja'], ['neen', 'ja', 'neen'], ['ja', 'ja', 'neen'], ['ja', 'neen', 'neen'], ['neen', 'neen', 'ja'], ['neen', 'ja', 'ja'], ['ja', 'neen', 'neen'], ['neen', 'neen', 'neen'], ['ja', 'ja', 'neen'], ['neen', 'neen', 'ja'], ['neen', 'neen', 'ja'], ['ja', 'ja', 'neen'], ['ja', 'ja', 'neen'], ['ja', 'neen', 'ja'], ['ja', 'neen', 'neen'], ['ja', 'ja', 'neen'], ['neen', 'neen', 'neen'], ['neen', 'neen', 'ja'], ['neen', 'neen', 'neen'], ['neen', 'ja', 'ja'], ['ja', 'ja', 'neen'], ['ja', 'ja', 'ja'], ['ja', 'ja', 'neen'], ['neen', 'neen', 'ja'], ['ja', 'ja', 'ja'], ['neen', 'neen', 'ja'], ['neen', 'neen', 'ja'], ['neen', 'ja', 'ja'], ['ja', 'neen', 'neen'], ['neen', 'neen', 'ja'], ['ja', 'neen', 'neen'], ['ja', 'neen', 'ja'], ['ja', 'ja', 'neen'], ['neen', 'ja', 'neen'], ['ja', 'neen', 'ja'], ['ja', 'neen', 'neen'], ['ja', 'neen', 'ja'], ['neen', 'neen', 'neen'], ['neen', 'ja', 'neen'], ['ja', 'ja', 'neen'], ['ja', 'ja', 'neen']]\n"
     ]
    }
   ],
   "source": [
    "#Oplossing: List \"gegevens\" creëren:\n",
    "import random\n",
    "from random import randint\n",
    "\n",
    "gegevens = []   \n",
    "antwoorden = ['ja', 'neen']\n",
    "for i in range(475):\n",
    "    gegevens.append([random.choice(antwoorden), random.choice(antwoorden), random.choice(antwoorden)])\n",
    "\n",
    "print(gegevens)"
   ]
  },
  {
   "cell_type": "code",
   "execution_count": 70,
   "metadata": {},
   "outputs": [],
   "source": [
    "#To Do: print(gegevens)\n",
    "\n"
   ]
  },
  {
   "cell_type": "code",
   "execution_count": null,
   "metadata": {},
   "outputs": [],
   "source": []
  },
  {
   "cell_type": "code",
   "execution_count": null,
   "metadata": {},
   "outputs": [],
   "source": [
    "#To Do: Bepaal uit de list \"gegevens\" het aantal studenten dat Python volgt."
   ]
  },
  {
   "cell_type": "code",
   "execution_count": 7,
   "metadata": {},
   "outputs": [
    {
     "name": "stdout",
     "output_type": "stream",
     "text": [
      "Het aantal studenten die python volgt is  240\n"
     ]
    }
   ],
   "source": [
    "#Oplossing\n",
    "aantal_studenten = 475\n",
    "aantal = 0\n",
    "for i in range(len(gegevens)):\n",
    "    if gegevens[i][0] == 'ja':\n",
    "        aantal += 1\n",
    "\n",
    "\n",
    "print(\"Het aantal studenten die python volgt is \", aantal)\n",
    "\n"
   ]
  },
  {
   "cell_type": "code",
   "execution_count": null,
   "metadata": {},
   "outputs": [],
   "source": []
  },
  {
   "cell_type": "code",
   "execution_count": null,
   "metadata": {},
   "outputs": [],
   "source": []
  },
  {
   "cell_type": "code",
   "execution_count": null,
   "metadata": {},
   "outputs": [],
   "source": [
    "#To Do: Bepaal uit de list \"gegevens\" het aantal studenten dat Python volgt maar niet SQL. "
   ]
  },
  {
   "cell_type": "code",
   "execution_count": 8,
   "metadata": {},
   "outputs": [],
   "source": [
    "#Oplossing\n",
    "aantal_studenten = 475\n",
    "aantal = 0\n",
    "for i in range(len(gegevens)):\n",
    "    if gegevens[i][0] == 'ja' and gegevens[i][1] == 'nee':\n",
    "        aantal += 1\n",
    "        \n",
    "\n"
   ]
  },
  {
   "cell_type": "code",
   "execution_count": 97,
   "metadata": {},
   "outputs": [
    {
     "name": "stdout",
     "output_type": "stream",
     "text": [
      "Het aantal studenten dat Python volgt maar niet SQL is 147\n"
     ]
    }
   ],
   "source": [
    "print(\"Het aantal studenten dat Python volgt maar niet SQL is\", aantal)"
   ]
  },
  {
   "cell_type": "code",
   "execution_count": null,
   "metadata": {},
   "outputs": [],
   "source": []
  },
  {
   "cell_type": "code",
   "execution_count": null,
   "metadata": {},
   "outputs": [],
   "source": [
    "#To Do: Welke studenten worden hier geselecteerd?"
   ]
  },
  {
   "cell_type": "code",
   "execution_count": 9,
   "metadata": {},
   "outputs": [],
   "source": [
    "aantal = 0\n",
    "for i in range(aantal_studenten):\n",
    "    if not(gegevens[i][0] == 'ja' and gegevens[i][1] == 'ja'):\n",
    "        aantal += 1"
   ]
  },
  {
   "cell_type": "code",
   "execution_count": null,
   "metadata": {},
   "outputs": [],
   "source": [
    "#Antwoord: studenten die geen python en geen SQL volgen\n"
   ]
  },
  {
   "cell_type": "code",
   "execution_count": null,
   "metadata": {},
   "outputs": [],
   "source": [
    "#To Do: Bepaal uit de list \"gegevens\" het aantal studenten dat Python of data adv volgt maar niet SQL"
   ]
  },
  {
   "cell_type": "code",
   "execution_count": null,
   "metadata": {},
   "outputs": [],
   "source": []
  },
  {
   "cell_type": "code",
   "execution_count": 10,
   "metadata": {},
   "outputs": [
    {
     "name": "stdout",
     "output_type": "stream",
     "text": [
      "Het aantal studenten dat Python of data adv volgt maar niet SQL 240\n"
     ]
    }
   ],
   "source": [
    "#Oplossing:\n",
    "aantal_studenten = 475\n",
    "aantal = 0\n",
    "for i in range(len(gegevens)):\n",
    "    if gegevens[i][0] == 'ja' or gegevens[i][2] == 'ja' and gegevens[i][1] == 'nee':\n",
    "        aantal += 1\n",
    "print(\"Het aantal studenten dat Python of data adv volgt maar niet SQL\", aantal)\n",
    "\n"
   ]
  },
  {
   "cell_type": "code",
   "execution_count": 96,
   "metadata": {},
   "outputs": [
    {
     "name": "stdout",
     "output_type": "stream",
     "text": [
      "Het aantal studenten dat python of data adv volgt maar niet SQL is  147\n"
     ]
    }
   ],
   "source": []
  },
  {
   "cell_type": "code",
   "execution_count": null,
   "metadata": {},
   "outputs": [],
   "source": []
  },
  {
   "cell_type": "code",
   "execution_count": null,
   "metadata": {},
   "outputs": [],
   "source": [
    "#To Do: Welke studenten worden hieronder berekend?"
   ]
  },
  {
   "cell_type": "code",
   "execution_count": 93,
   "metadata": {},
   "outputs": [],
   "source": [
    "aantal = 0\n",
    "for i in range(aantal_studenten):\n",
    "    if gegevens[i][0] == 'ja' or gegevens[i][2] == 'ja' and not(gegevens[i][1] == 'ja'):\n",
    "        aantal += 1"
   ]
  },
  {
   "cell_type": "code",
   "execution_count": 1,
   "metadata": {},
   "outputs": [],
   "source": [
    "#Antwoord: Studenten die Python of Data doen, maar geen SQL"
   ]
  },
  {
   "cell_type": "code",
   "execution_count": null,
   "metadata": {},
   "outputs": [],
   "source": []
  }
 ],
 "metadata": {
  "kernelspec": {
   "display_name": "Python 3 (ipykernel)",
   "language": "python",
   "name": "python3"
  },
  "language_info": {
   "codemirror_mode": {
    "name": "ipython",
    "version": 3
   },
   "file_extension": ".py",
   "mimetype": "text/x-python",
   "name": "python",
   "nbconvert_exporter": "python",
   "pygments_lexer": "ipython3",
   "version": "3.9.7"
  }
 },
 "nbformat": 4,
 "nbformat_minor": 2
}
