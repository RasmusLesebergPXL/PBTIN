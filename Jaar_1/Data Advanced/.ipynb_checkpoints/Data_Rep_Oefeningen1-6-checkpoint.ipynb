{
 "cells": [
  {
   "cell_type": "code",
   "execution_count": null,
   "id": "c5f231d6",
   "metadata": {},
   "outputs": [],
   "source": [
    "#Example of stats functions from standaard normale verdeling\n",
    "\n",
    "#Voorbeeld 1\n",
    "\n",
    "stats.norm.cdf(-1.23, 0, 1)"
   ]
  },
  {
   "cell_type": "code",
   "execution_count": null,
   "id": "0010783c",
   "metadata": {},
   "outputs": [],
   "source": [
    "1 - stats.norm.cdf(2.09, 0, 1)"
   ]
  },
  {
   "cell_type": "code",
   "execution_count": null,
   "id": "53867b94",
   "metadata": {},
   "outputs": [],
   "source": [
    "stats.norm.cdf(2.85, 0, 1) - stats.norm.cdf(1.21, 0, 1)"
   ]
  },
  {
   "cell_type": "code",
   "execution_count": null,
   "id": "cf5b1e51",
   "metadata": {},
   "outputs": [],
   "source": [
    "#Voorbeeld 2\n",
    "stats.norm.ppf(0.9936, 0, 1)\n"
   ]
  },
  {
   "cell_type": "code",
   "execution_count": null,
   "id": "de523b49",
   "metadata": {},
   "outputs": [],
   "source": [
    "stats.norm.ppf(1 - 0.9887, 0, 1)"
   ]
  },
  {
   "cell_type": "code",
   "execution_count": null,
   "id": "5a1af272",
   "metadata": {},
   "outputs": [],
   "source": [
    "#Oef 3a\n",
    "\n",
    "stats.norm.cdf(180, 170.6, 6.75)"
   ]
  },
  {
   "cell_type": "code",
   "execution_count": null,
   "id": "5b4c9064",
   "metadata": {},
   "outputs": [],
   "source": [
    "#b\n",
    "stats.norm.cdf(175, 170.6, 6.75) - stats.norm.cdf(160, 170.6, 6.75)"
   ]
  },
  {
   "cell_type": "code",
   "execution_count": null,
   "id": "db6fffa7",
   "metadata": {},
   "outputs": [],
   "source": [
    "#c\n",
    "stats.norm.cdf(180.1, 170.6, 6.75) - stats.norm.cdf(179.9, 170.6, 6.75)"
   ]
  },
  {
   "cell_type": "code",
   "execution_count": null,
   "id": "58bf5e99",
   "metadata": {},
   "outputs": [],
   "source": [
    "#d.\n",
    "stats.norm.ppf(0.6, 170.6, 6.75)"
   ]
  },
  {
   "cell_type": "code",
   "execution_count": null,
   "id": "9d427fa6",
   "metadata": {},
   "outputs": [],
   "source": [
    "#Voorbeeld 5\n",
    "mu = 52\n",
    "sigma = 9\n",
    "s = np.random.normal(mu, sigma, 500)\n",
    "stats.norm.cdf(50, 52, 9)"
   ]
  }
 ],
 "metadata": {
  "kernelspec": {
   "display_name": "Python 3 (ipykernel)",
   "language": "python",
   "name": "python3"
  },
  "language_info": {
   "codemirror_mode": {
    "name": "ipython",
    "version": 3
   },
   "file_extension": ".py",
   "mimetype": "text/x-python",
   "name": "python",
   "nbconvert_exporter": "python",
   "pygments_lexer": "ipython3",
   "version": "3.9.7"
  }
 },
 "nbformat": 4,
 "nbformat_minor": 5
}
